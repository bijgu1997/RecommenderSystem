{
 "cells": [
  {
   "cell_type": "markdown",
   "id": "76b1d275-9781-4fea-9db5-0e4f53822e46",
   "metadata": {},
   "source": [
    "# Developing a Book Recommendation System using CLIPS\n",
    "\n",
    "## Introduction\n",
    "\n",
    "In this Jupyter notebook, we will be using a book dataset scraped from Amazon to build a recommendation system. The recommendation system uses an expert system at its core, written in CLIPS through the clipspy interface. The recommendation system will accept book titles as inputs and will infer the common category from the books using rules and facts. The resulting category will be used to suggest book titles for the user.\n",
    "\n",
    "The dataset for this analysis can be retrieved from: https://github.com/luminati-io/Amazon-popular-books-dataset\n",
    "\n",
    "## Data Analysis\n",
    "\n",
    "### Data Cleaning\n",
    "\n",
    "A number of Python packages will be used in the analysis, including:\n",
    "- Pandas, Numpy and Matplotlib for data analysis and visualization\n",
    "- Clips (clipspy) for building the expert system"
   ]
  },
  {
   "cell_type": "code",
   "execution_count": 1,
   "id": "e13600da-489b-41e9-a0e9-cfbfecd02e2b",
   "metadata": {},
   "outputs": [],
   "source": [
    "import pandas as pd\n",
    "import numpy as np\n",
    "import matplotlib.pyplot as plt\n",
    "# import re\n",
    "\n",
    "import clips\n",
    "from clips import Environment,LoggingRouter\n",
    "import logging"
   ]
  },
  {
   "cell_type": "markdown",
   "id": "e2f4ab9d-391e-4c07-b18f-3d15f870ae37",
   "metadata": {},
   "source": [
    "Using pandas, we can load the dataset from a CSV file directly to a dataframe."
   ]
  },
  {
   "cell_type": "code",
   "execution_count": 2,
   "id": "92843d49-137c-4b6a-b335-c31b1280457f",
   "metadata": {},
   "outputs": [],
   "source": [
    "df = pd.read_csv(\"./data/Amazon_popular_books_dataset.csv\")"
   ]
  },
  {
   "cell_type": "code",
   "execution_count": 3,
   "id": "3e089a9f-67a1-415c-ad3e-2d3141fabecb",
   "metadata": {},
   "outputs": [
    {
     "data": {
      "text/html": [
       "<div>\n",
       "<style scoped>\n",
       "    .dataframe tbody tr th:only-of-type {\n",
       "        vertical-align: middle;\n",
       "    }\n",
       "\n",
       "    .dataframe tbody tr th {\n",
       "        vertical-align: top;\n",
       "    }\n",
       "\n",
       "    .dataframe thead th {\n",
       "        text-align: right;\n",
       "    }\n",
       "</style>\n",
       "<table border=\"1\" class=\"dataframe\">\n",
       "  <thead>\n",
       "    <tr style=\"text-align: right;\">\n",
       "      <th></th>\n",
       "      <th>asin</th>\n",
       "      <th>ISBN10</th>\n",
       "      <th>answered_questions</th>\n",
       "      <th>availability</th>\n",
       "      <th>brand</th>\n",
       "      <th>currency</th>\n",
       "      <th>date_first_available</th>\n",
       "      <th>delivery</th>\n",
       "      <th>department</th>\n",
       "      <th>description</th>\n",
       "      <th>...</th>\n",
       "      <th>upc</th>\n",
       "      <th>url</th>\n",
       "      <th>video</th>\n",
       "      <th>video_count</th>\n",
       "      <th>categories</th>\n",
       "      <th>best_sellers_rank</th>\n",
       "      <th>buybox_seller</th>\n",
       "      <th>image</th>\n",
       "      <th>number_of_sellers</th>\n",
       "      <th>colors</th>\n",
       "    </tr>\n",
       "  </thead>\n",
       "  <tbody>\n",
       "    <tr>\n",
       "      <th>0</th>\n",
       "      <td>0007350813</td>\n",
       "      <td>0007350813</td>\n",
       "      <td>0</td>\n",
       "      <td>In Stock.</td>\n",
       "      <td>Emily Brontë</td>\n",
       "      <td>USD</td>\n",
       "      <td>NaN</td>\n",
       "      <td>[\"FREE delivery Tuesday, December 28 if you sp...</td>\n",
       "      <td>NaN</td>\n",
       "      <td>NaN</td>\n",
       "      <td>...</td>\n",
       "      <td>NaN</td>\n",
       "      <td>https://www.amazon.com/dp/0007350813</td>\n",
       "      <td>NaN</td>\n",
       "      <td>0</td>\n",
       "      <td>[\"Books\",\"Literature &amp; Fiction\",\"Genre Fiction\"]</td>\n",
       "      <td>[{\"category\":\"Books / Literature &amp; Fiction / H...</td>\n",
       "      <td>NaN</td>\n",
       "      <td>NaN</td>\n",
       "      <td>NaN</td>\n",
       "      <td>NaN</td>\n",
       "    </tr>\n",
       "    <tr>\n",
       "      <th>1</th>\n",
       "      <td>0007513763</td>\n",
       "      <td>9780007513765</td>\n",
       "      <td>0</td>\n",
       "      <td>In Stock.</td>\n",
       "      <td>Drew Daywalt</td>\n",
       "      <td>USD</td>\n",
       "      <td>NaN</td>\n",
       "      <td>[\"FREE delivery Tuesday, December 28 if you sp...</td>\n",
       "      <td>NaN</td>\n",
       "      <td>NaN</td>\n",
       "      <td>...</td>\n",
       "      <td>NaN</td>\n",
       "      <td>https://www.amazon.com/dp/0007513763</td>\n",
       "      <td>NaN</td>\n",
       "      <td>0</td>\n",
       "      <td>[\"Books\",\"Children's Books\",\"Literature &amp; Fict...</td>\n",
       "      <td>[{\"category\":\"Books / Children's Books / Liter...</td>\n",
       "      <td>VMG Books &amp; Media</td>\n",
       "      <td>NaN</td>\n",
       "      <td>NaN</td>\n",
       "      <td>NaN</td>\n",
       "    </tr>\n",
       "    <tr>\n",
       "      <th>2</th>\n",
       "      <td>0008183988</td>\n",
       "      <td>0008183988</td>\n",
       "      <td>0</td>\n",
       "      <td>NaN</td>\n",
       "      <td>Bernard Cornwell</td>\n",
       "      <td>USD</td>\n",
       "      <td>NaN</td>\n",
       "      <td>[\"FREE delivery January 4 - 10 if you spend $2...</td>\n",
       "      <td>NaN</td>\n",
       "      <td>NaN</td>\n",
       "      <td>...</td>\n",
       "      <td>NaN</td>\n",
       "      <td>https://www.amazon.com/dp/0008183988</td>\n",
       "      <td>NaN</td>\n",
       "      <td>0</td>\n",
       "      <td>[\"Books\",\"Literature &amp; Fiction\",\"Genre Fiction\"]</td>\n",
       "      <td>[{\"category\":\"Books / Literature &amp; Fiction / H...</td>\n",
       "      <td>Reuseaworld</td>\n",
       "      <td>NaN</td>\n",
       "      <td>NaN</td>\n",
       "      <td>NaN</td>\n",
       "    </tr>\n",
       "    <tr>\n",
       "      <th>3</th>\n",
       "      <td>0008305838</td>\n",
       "      <td>0008305838</td>\n",
       "      <td>0</td>\n",
       "      <td>In Stock.</td>\n",
       "      <td>David Walliams</td>\n",
       "      <td>USD</td>\n",
       "      <td>NaN</td>\n",
       "      <td>[\"FREE delivery Tuesday, December 28 if you sp...</td>\n",
       "      <td>NaN</td>\n",
       "      <td>NaN</td>\n",
       "      <td>...</td>\n",
       "      <td>NaN</td>\n",
       "      <td>https://www.amazon.com/dp/0008305838</td>\n",
       "      <td>NaN</td>\n",
       "      <td>0</td>\n",
       "      <td>[\"Books\",\"Children's Books\",\"Literature &amp; Fict...</td>\n",
       "      <td>[{\"category\":\"Books / Children's Books / Liter...</td>\n",
       "      <td>Bahamut Media</td>\n",
       "      <td>NaN</td>\n",
       "      <td>NaN</td>\n",
       "      <td>NaN</td>\n",
       "    </tr>\n",
       "    <tr>\n",
       "      <th>4</th>\n",
       "      <td>0008375526</td>\n",
       "      <td>0008375526</td>\n",
       "      <td>0</td>\n",
       "      <td>In Stock.</td>\n",
       "      <td>Caroline Hirons</td>\n",
       "      <td>USD</td>\n",
       "      <td>NaN</td>\n",
       "      <td>[\"FREE delivery Tuesday, December 28\",\"Or fast...</td>\n",
       "      <td>NaN</td>\n",
       "      <td>NaN</td>\n",
       "      <td>...</td>\n",
       "      <td>NaN</td>\n",
       "      <td>https://www.amazon.com/dp/0008375526</td>\n",
       "      <td>NaN</td>\n",
       "      <td>0</td>\n",
       "      <td>[\"Books\",\"Crafts, Hobbies &amp; Home\",\"Home Improv...</td>\n",
       "      <td>[{\"category\":\"Books / Health, Fitness &amp; Dietin...</td>\n",
       "      <td>KathrynAshleyGallery</td>\n",
       "      <td>NaN</td>\n",
       "      <td>NaN</td>\n",
       "      <td>NaN</td>\n",
       "    </tr>\n",
       "  </tbody>\n",
       "</table>\n",
       "<p>5 rows × 40 columns</p>\n",
       "</div>"
      ],
      "text/plain": [
       "         asin         ISBN10  answered_questions availability  \\\n",
       "0  0007350813     0007350813                   0    In Stock.   \n",
       "1  0007513763  9780007513765                   0    In Stock.   \n",
       "2  0008183988     0008183988                   0          NaN   \n",
       "3  0008305838     0008305838                   0    In Stock.   \n",
       "4  0008375526     0008375526                   0    In Stock.   \n",
       "\n",
       "              brand currency date_first_available  \\\n",
       "0      Emily Brontë      USD                  NaN   \n",
       "1      Drew Daywalt      USD                  NaN   \n",
       "2  Bernard Cornwell      USD                  NaN   \n",
       "3    David Walliams      USD                  NaN   \n",
       "4   Caroline Hirons      USD                  NaN   \n",
       "\n",
       "                                            delivery  department description  \\\n",
       "0  [\"FREE delivery Tuesday, December 28 if you sp...         NaN         NaN   \n",
       "1  [\"FREE delivery Tuesday, December 28 if you sp...         NaN         NaN   \n",
       "2  [\"FREE delivery January 4 - 10 if you spend $2...         NaN         NaN   \n",
       "3  [\"FREE delivery Tuesday, December 28 if you sp...         NaN         NaN   \n",
       "4  [\"FREE delivery Tuesday, December 28\",\"Or fast...         NaN         NaN   \n",
       "\n",
       "   ...  upc                                   url video  video_count  \\\n",
       "0  ...  NaN  https://www.amazon.com/dp/0007350813   NaN            0   \n",
       "1  ...  NaN  https://www.amazon.com/dp/0007513763   NaN            0   \n",
       "2  ...  NaN  https://www.amazon.com/dp/0008183988   NaN            0   \n",
       "3  ...  NaN  https://www.amazon.com/dp/0008305838   NaN            0   \n",
       "4  ...  NaN  https://www.amazon.com/dp/0008375526   NaN            0   \n",
       "\n",
       "                                          categories  \\\n",
       "0   [\"Books\",\"Literature & Fiction\",\"Genre Fiction\"]   \n",
       "1  [\"Books\",\"Children's Books\",\"Literature & Fict...   \n",
       "2   [\"Books\",\"Literature & Fiction\",\"Genre Fiction\"]   \n",
       "3  [\"Books\",\"Children's Books\",\"Literature & Fict...   \n",
       "4  [\"Books\",\"Crafts, Hobbies & Home\",\"Home Improv...   \n",
       "\n",
       "                                   best_sellers_rank         buybox_seller  \\\n",
       "0  [{\"category\":\"Books / Literature & Fiction / H...                   NaN   \n",
       "1  [{\"category\":\"Books / Children's Books / Liter...     VMG Books & Media   \n",
       "2  [{\"category\":\"Books / Literature & Fiction / H...           Reuseaworld   \n",
       "3  [{\"category\":\"Books / Children's Books / Liter...         Bahamut Media   \n",
       "4  [{\"category\":\"Books / Health, Fitness & Dietin...  KathrynAshleyGallery   \n",
       "\n",
       "   image number_of_sellers colors  \n",
       "0    NaN               NaN    NaN  \n",
       "1    NaN               NaN    NaN  \n",
       "2    NaN               NaN    NaN  \n",
       "3    NaN               NaN    NaN  \n",
       "4    NaN               NaN    NaN  \n",
       "\n",
       "[5 rows x 40 columns]"
      ]
     },
     "execution_count": 3,
     "metadata": {},
     "output_type": "execute_result"
    }
   ],
   "source": [
    "df.head()"
   ]
  },
  {
   "cell_type": "markdown",
   "id": "49cbe330-37cf-4251-aa12-56b1b8f3a65e",
   "metadata": {},
   "source": [
    "Having a look at the top-most rows of the dataset, a number of observations can be made:\n",
    "\n",
    "- The author is described in the 'brand' column\n",
    "- A book may belong to several categories\n",
    "- All the books seem to belong to the 'Books' category which is redundant\n",
    "\n",
    "Looking at the size of the dataset, there are 2269 rows and 40 columns for each row. \n"
   ]
  },
  {
   "cell_type": "code",
   "execution_count": 4,
   "id": "6dbb11d1-8bb0-4823-aeb2-4333b3406921",
   "metadata": {},
   "outputs": [
    {
     "data": {
      "text/plain": [
       "(2269, 40)"
      ]
     },
     "execution_count": 4,
     "metadata": {},
     "output_type": "execute_result"
    }
   ],
   "source": [
    "df.shape"
   ]
  },
  {
   "cell_type": "code",
   "execution_count": 5,
   "id": "560ba901-2616-474b-a2ed-3d07cca1335a",
   "metadata": {},
   "outputs": [
    {
     "data": {
      "text/plain": [
       "Index(['asin', 'ISBN10', 'answered_questions', 'availability', 'brand',\n",
       "       'currency', 'date_first_available', 'delivery', 'department',\n",
       "       'description', 'discount', 'domain', 'features', 'final_price',\n",
       "       'format', 'image_url', 'images_count', 'initial_price', 'item_weight',\n",
       "       'manufacturer', 'model_number', 'plus_content', 'product_dimensions',\n",
       "       'rating', 'reviews_count', 'root_bs_rank', 'seller_id', 'seller_name',\n",
       "       'timestamp', 'title', 'upc', 'url', 'video', 'video_count',\n",
       "       'categories', 'best_sellers_rank', 'buybox_seller', 'image',\n",
       "       'number_of_sellers', 'colors'],\n",
       "      dtype='object')"
      ]
     },
     "execution_count": 5,
     "metadata": {},
     "output_type": "execute_result"
    }
   ],
   "source": [
    "df.columns"
   ]
  },
  {
   "cell_type": "markdown",
   "id": "663e3cd7-6353-4a8c-b5ac-5e233e3601f0",
   "metadata": {},
   "source": [
    "For the sake of this analysis, the majority of the columns are not useful e.g. seller_name, colors, images_count etc. Therefore, a subset of the dataset will be considered for further analysis. \n",
    "The columns to be considered are:\n",
    "- asin\n",
    "- title\n",
    "- brand\n",
    "- rating\n",
    "- categories\n",
    "- reviews_count"
   ]
  },
  {
   "cell_type": "code",
   "execution_count": 6,
   "id": "7d675ba8-3733-4fc9-aba5-b4d3082ecce0",
   "metadata": {},
   "outputs": [],
   "source": [
    "df_books = df[['asin','title','brand','rating','categories', 'reviews_count']].copy()"
   ]
  },
  {
   "cell_type": "code",
   "execution_count": 7,
   "id": "ee06dbe7-c5d0-4c26-b0ed-2e67d45b1692",
   "metadata": {},
   "outputs": [
    {
     "data": {
      "text/html": [
       "<div>\n",
       "<style scoped>\n",
       "    .dataframe tbody tr th:only-of-type {\n",
       "        vertical-align: middle;\n",
       "    }\n",
       "\n",
       "    .dataframe tbody tr th {\n",
       "        vertical-align: top;\n",
       "    }\n",
       "\n",
       "    .dataframe thead th {\n",
       "        text-align: right;\n",
       "    }\n",
       "</style>\n",
       "<table border=\"1\" class=\"dataframe\">\n",
       "  <thead>\n",
       "    <tr style=\"text-align: right;\">\n",
       "      <th></th>\n",
       "      <th>asin</th>\n",
       "      <th>title</th>\n",
       "      <th>brand</th>\n",
       "      <th>rating</th>\n",
       "      <th>categories</th>\n",
       "      <th>reviews_count</th>\n",
       "    </tr>\n",
       "  </thead>\n",
       "  <tbody>\n",
       "    <tr>\n",
       "      <th>0</th>\n",
       "      <td>0007350813</td>\n",
       "      <td>Wuthering Heights (Collins Classics)</td>\n",
       "      <td>Emily Brontë</td>\n",
       "      <td>4.6 out of 5 stars</td>\n",
       "      <td>[\"Books\",\"Literature &amp; Fiction\",\"Genre Fiction\"]</td>\n",
       "      <td>13451</td>\n",
       "    </tr>\n",
       "    <tr>\n",
       "      <th>1</th>\n",
       "      <td>0007513763</td>\n",
       "      <td>THE DAYS THE CRAYONS QUIT</td>\n",
       "      <td>Drew Daywalt</td>\n",
       "      <td>4.8 out of 5 stars</td>\n",
       "      <td>[\"Books\",\"Children's Books\",\"Literature &amp; Fict...</td>\n",
       "      <td>16628</td>\n",
       "    </tr>\n",
       "    <tr>\n",
       "      <th>2</th>\n",
       "      <td>0008183988</td>\n",
       "      <td>War Lord: Book 13 (The Last Kingdom Series)</td>\n",
       "      <td>Bernard Cornwell</td>\n",
       "      <td>4.8 out of 5 stars</td>\n",
       "      <td>[\"Books\",\"Literature &amp; Fiction\",\"Genre Fiction\"]</td>\n",
       "      <td>11275</td>\n",
       "    </tr>\n",
       "    <tr>\n",
       "      <th>3</th>\n",
       "      <td>0008305838</td>\n",
       "      <td>Code Name Bananas: The hilarious and epic new ...</td>\n",
       "      <td>David Walliams</td>\n",
       "      <td>4.8 out of 5 stars</td>\n",
       "      <td>[\"Books\",\"Children's Books\",\"Literature &amp; Fict...</td>\n",
       "      <td>15520</td>\n",
       "    </tr>\n",
       "    <tr>\n",
       "      <th>4</th>\n",
       "      <td>0008375526</td>\n",
       "      <td>Skincare: The award-winning ultimate no-nonsen...</td>\n",
       "      <td>Caroline Hirons</td>\n",
       "      <td>4.8 out of 5 stars</td>\n",
       "      <td>[\"Books\",\"Crafts, Hobbies &amp; Home\",\"Home Improv...</td>\n",
       "      <td>10884</td>\n",
       "    </tr>\n",
       "  </tbody>\n",
       "</table>\n",
       "</div>"
      ],
      "text/plain": [
       "         asin                                              title  \\\n",
       "0  0007350813               Wuthering Heights (Collins Classics)   \n",
       "1  0007513763                          THE DAYS THE CRAYONS QUIT   \n",
       "2  0008183988        War Lord: Book 13 (The Last Kingdom Series)   \n",
       "3  0008305838  Code Name Bananas: The hilarious and epic new ...   \n",
       "4  0008375526  Skincare: The award-winning ultimate no-nonsen...   \n",
       "\n",
       "              brand              rating  \\\n",
       "0      Emily Brontë  4.6 out of 5 stars   \n",
       "1      Drew Daywalt  4.8 out of 5 stars   \n",
       "2  Bernard Cornwell  4.8 out of 5 stars   \n",
       "3    David Walliams  4.8 out of 5 stars   \n",
       "4   Caroline Hirons  4.8 out of 5 stars   \n",
       "\n",
       "                                          categories  reviews_count  \n",
       "0   [\"Books\",\"Literature & Fiction\",\"Genre Fiction\"]          13451  \n",
       "1  [\"Books\",\"Children's Books\",\"Literature & Fict...          16628  \n",
       "2   [\"Books\",\"Literature & Fiction\",\"Genre Fiction\"]          11275  \n",
       "3  [\"Books\",\"Children's Books\",\"Literature & Fict...          15520  \n",
       "4  [\"Books\",\"Crafts, Hobbies & Home\",\"Home Improv...          10884  "
      ]
     },
     "execution_count": 7,
     "metadata": {},
     "output_type": "execute_result"
    }
   ],
   "source": [
    "df_books.head()"
   ]
  },
  {
   "cell_type": "markdown",
   "id": "a8c53e56-2654-4ff3-a309-14a41a148d25",
   "metadata": {},
   "source": [
    "From the dataset overview, the 'brand' column refers to the author and will be renamed to 'author':"
   ]
  },
  {
   "cell_type": "code",
   "execution_count": 8,
   "id": "eeab20e6-bf23-47bc-a1b9-f8d896c4d9a4",
   "metadata": {},
   "outputs": [],
   "source": [
    "df_books.rename({\"brand\":\"author\"}, axis=1, inplace=True)"
   ]
  },
  {
   "cell_type": "code",
   "execution_count": 9,
   "id": "184ab73d-e81c-4d49-b45c-b6b2b35a29be",
   "metadata": {},
   "outputs": [
    {
     "data": {
      "text/plain": [
       "asin             object\n",
       "title            object\n",
       "author           object\n",
       "rating           object\n",
       "categories       object\n",
       "reviews_count     int64\n",
       "dtype: object"
      ]
     },
     "execution_count": 9,
     "metadata": {},
     "output_type": "execute_result"
    }
   ],
   "source": [
    "df_books.dtypes"
   ]
  },
  {
   "cell_type": "markdown",
   "id": "a4ad6c3a-b38a-4e1c-93ea-88c599626211",
   "metadata": {},
   "source": [
    "Looking at the columns and their datatypes, the following observations were noted:\n",
    "\n",
    "- The 'categories' column is a string representation of a list\n",
    "- The reviews_count is an integer\n",
    "- The rest of the columns are strings\n",
    "\n",
    "For clarity and sorting later on, it would be beneficial to convert the rating to the float notation."
   ]
  },
  {
   "cell_type": "code",
   "execution_count": 10,
   "id": "f275beb4-d0d0-4152-b550-f49b05afbc1e",
   "metadata": {},
   "outputs": [],
   "source": [
    "# 1. Convert the string to a set of columns by splitting the string on the spaces\n",
    "# 2. Taking the column index 0 to get the first column i.e. the rating out of 5\n",
    "# 3. Converting the rating to the float notation\n",
    "df_books['rating'] = df_books['rating'].str.split(' ', expand=True)[0].astype(float) "
   ]
  },
  {
   "cell_type": "code",
   "execution_count": 11,
   "id": "f90c17f4-75e3-4a8d-add2-2f8decf70601",
   "metadata": {},
   "outputs": [
    {
     "data": {
      "text/plain": [
       "0       4.6\n",
       "1       4.8\n",
       "2       4.8\n",
       "3       4.8\n",
       "4       4.8\n",
       "       ... \n",
       "2264    4.2\n",
       "2265    4.8\n",
       "2266    4.7\n",
       "2267    4.4\n",
       "2268    4.8\n",
       "Name: rating, Length: 2269, dtype: float64"
      ]
     },
     "execution_count": 11,
     "metadata": {},
     "output_type": "execute_result"
    }
   ],
   "source": [
    "df_books['rating']"
   ]
  },
  {
   "cell_type": "markdown",
   "id": "3c0300ef-1742-4e42-bf08-462c99bccd8a",
   "metadata": {},
   "source": [
    "Similarly, in order to manipulate and analyse the categories, we can convert the string representation of a list into an actual list."
   ]
  },
  {
   "cell_type": "code",
   "execution_count": 12,
   "id": "24581616-8a52-4583-8006-e6da9e5f238f",
   "metadata": {},
   "outputs": [],
   "source": [
    "df_books['categories'] = df_books['categories'].apply(eval) # convert string to list"
   ]
  },
  {
   "cell_type": "code",
   "execution_count": 13,
   "id": "dd7c4420-8db3-4553-a7e8-59678ed81ce6",
   "metadata": {},
   "outputs": [
    {
     "data": {
      "text/plain": [
       "0            [Books, Literature & Fiction, Genre Fiction]\n",
       "1         [Books, Children's Books, Literature & Fiction]\n",
       "2            [Books, Literature & Fiction, Genre Fiction]\n",
       "3         [Books, Children's Books, Literature & Fiction]\n",
       "4       [Books, Crafts, Hobbies & Home, Home Improveme...\n",
       "                              ...                        \n",
       "2264    [Books, Mystery, Thriller & Suspense, Thriller...\n",
       "2265    [Books, Health, Fitness & Dieting, Women's Hea...\n",
       "2266    [Books, Crafts, Hobbies & Home, Home Improveme...\n",
       "2267    [Books, Mystery, Thriller & Suspense, Thriller...\n",
       "2268    [Books, Arts & Photography, Music, Musical Gen...\n",
       "Name: categories, Length: 2269, dtype: object"
      ]
     },
     "execution_count": 13,
     "metadata": {},
     "output_type": "execute_result"
    }
   ],
   "source": [
    "df_books['categories']"
   ]
  },
  {
   "cell_type": "markdown",
   "id": "b48b4ef6-4bb1-4d44-8840-47994659028f",
   "metadata": {},
   "source": [
    "As mentioned before, the 'Books' category seems to be present in every row as the first category. This would cause the recommender system to pick up 'Book' as the most common category in every situation. We can create a function to remove the 'Books' category and apply it to the whole dataframe by using the 'apply' function."
   ]
  },
  {
   "cell_type": "code",
   "execution_count": 14,
   "id": "7560f77b-280a-4c61-be97-1bee69127cf1",
   "metadata": {},
   "outputs": [],
   "source": [
    "def remove_books(categories): \n",
    "    if \"Books\" in categories:\n",
    "        categories.remove(\"Books\")\n",
    "    return categories"
   ]
  },
  {
   "cell_type": "code",
   "execution_count": 15,
   "id": "c7d372e7-5056-4fc1-9dd8-60b0670088ce",
   "metadata": {},
   "outputs": [],
   "source": [
    "df_books['categories'] = df_books['categories'].apply(remove_books) # remove books from categories"
   ]
  },
  {
   "cell_type": "code",
   "execution_count": 16,
   "id": "3f6f3d48-d469-4ca3-9ea0-b69503ba83df",
   "metadata": {},
   "outputs": [
    {
     "data": {
      "text/html": [
       "<div>\n",
       "<style scoped>\n",
       "    .dataframe tbody tr th:only-of-type {\n",
       "        vertical-align: middle;\n",
       "    }\n",
       "\n",
       "    .dataframe tbody tr th {\n",
       "        vertical-align: top;\n",
       "    }\n",
       "\n",
       "    .dataframe thead th {\n",
       "        text-align: right;\n",
       "    }\n",
       "</style>\n",
       "<table border=\"1\" class=\"dataframe\">\n",
       "  <thead>\n",
       "    <tr style=\"text-align: right;\">\n",
       "      <th></th>\n",
       "      <th>title</th>\n",
       "      <th>categories</th>\n",
       "    </tr>\n",
       "  </thead>\n",
       "  <tbody>\n",
       "    <tr>\n",
       "      <th>0</th>\n",
       "      <td>Wuthering Heights (Collins Classics)</td>\n",
       "      <td>[Literature &amp; Fiction, Genre Fiction]</td>\n",
       "    </tr>\n",
       "    <tr>\n",
       "      <th>1</th>\n",
       "      <td>THE DAYS THE CRAYONS QUIT</td>\n",
       "      <td>[Children's Books, Literature &amp; Fiction]</td>\n",
       "    </tr>\n",
       "    <tr>\n",
       "      <th>2</th>\n",
       "      <td>War Lord: Book 13 (The Last Kingdom Series)</td>\n",
       "      <td>[Literature &amp; Fiction, Genre Fiction]</td>\n",
       "    </tr>\n",
       "    <tr>\n",
       "      <th>3</th>\n",
       "      <td>Code Name Bananas: The hilarious and epic new ...</td>\n",
       "      <td>[Children's Books, Literature &amp; Fiction]</td>\n",
       "    </tr>\n",
       "    <tr>\n",
       "      <th>4</th>\n",
       "      <td>Skincare: The award-winning ultimate no-nonsen...</td>\n",
       "      <td>[Crafts, Hobbies &amp; Home, Home Improvement &amp; De...</td>\n",
       "    </tr>\n",
       "    <tr>\n",
       "      <th>...</th>\n",
       "      <td>...</td>\n",
       "      <td>...</td>\n",
       "    </tr>\n",
       "    <tr>\n",
       "      <th>2264</th>\n",
       "      <td>Unspeakable Things</td>\n",
       "      <td>[Mystery, Thriller &amp; Suspense, Thrillers &amp; Sus...</td>\n",
       "    </tr>\n",
       "    <tr>\n",
       "      <th>2265</th>\n",
       "      <td>What to Expect When You’re Expecting</td>\n",
       "      <td>[Health, Fitness &amp; Dieting, Women's Health, Pr...</td>\n",
       "    </tr>\n",
       "    <tr>\n",
       "      <th>2266</th>\n",
       "      <td>The Home Edit: A Guide to Organizing and Reali...</td>\n",
       "      <td>[Crafts, Hobbies &amp; Home, Home Improvement &amp; De...</td>\n",
       "    </tr>\n",
       "    <tr>\n",
       "      <th>2267</th>\n",
       "      <td>The Family Upstairs: A Novel</td>\n",
       "      <td>[Mystery, Thriller &amp; Suspense, Thrillers &amp; Sus...</td>\n",
       "    </tr>\n",
       "    <tr>\n",
       "      <th>2268</th>\n",
       "      <td>Me: Elton John Official Autobiography</td>\n",
       "      <td>[Arts &amp; Photography, Music, Musical Genres, Po...</td>\n",
       "    </tr>\n",
       "  </tbody>\n",
       "</table>\n",
       "<p>2269 rows × 2 columns</p>\n",
       "</div>"
      ],
      "text/plain": [
       "                                                  title  \\\n",
       "0                  Wuthering Heights (Collins Classics)   \n",
       "1                             THE DAYS THE CRAYONS QUIT   \n",
       "2           War Lord: Book 13 (The Last Kingdom Series)   \n",
       "3     Code Name Bananas: The hilarious and epic new ...   \n",
       "4     Skincare: The award-winning ultimate no-nonsen...   \n",
       "...                                                 ...   \n",
       "2264                                 Unspeakable Things   \n",
       "2265               What to Expect When You’re Expecting   \n",
       "2266  The Home Edit: A Guide to Organizing and Reali...   \n",
       "2267                       The Family Upstairs: A Novel   \n",
       "2268              Me: Elton John Official Autobiography   \n",
       "\n",
       "                                             categories  \n",
       "0                 [Literature & Fiction, Genre Fiction]  \n",
       "1              [Children's Books, Literature & Fiction]  \n",
       "2                 [Literature & Fiction, Genre Fiction]  \n",
       "3              [Children's Books, Literature & Fiction]  \n",
       "4     [Crafts, Hobbies & Home, Home Improvement & De...  \n",
       "...                                                 ...  \n",
       "2264  [Mystery, Thriller & Suspense, Thrillers & Sus...  \n",
       "2265  [Health, Fitness & Dieting, Women's Health, Pr...  \n",
       "2266  [Crafts, Hobbies & Home, Home Improvement & De...  \n",
       "2267  [Mystery, Thriller & Suspense, Thrillers & Sus...  \n",
       "2268  [Arts & Photography, Music, Musical Genres, Po...  \n",
       "\n",
       "[2269 rows x 2 columns]"
      ]
     },
     "execution_count": 16,
     "metadata": {},
     "output_type": "execute_result"
    }
   ],
   "source": [
    "df_books[['title','categories']]"
   ]
  },
  {
   "cell_type": "markdown",
   "id": "5f138753-dc39-48c8-b4e3-905b9798bd0f",
   "metadata": {},
   "source": [
    "The next step is to check for any duplicates in the dataset. The query below identifies the rows with a duplicate title. "
   ]
  },
  {
   "cell_type": "code",
   "execution_count": 17,
   "id": "b081e815-823f-40d6-9f18-d44ac24dfed7",
   "metadata": {},
   "outputs": [
    {
     "data": {
      "text/html": [
       "<div>\n",
       "<style scoped>\n",
       "    .dataframe tbody tr th:only-of-type {\n",
       "        vertical-align: middle;\n",
       "    }\n",
       "\n",
       "    .dataframe tbody tr th {\n",
       "        vertical-align: top;\n",
       "    }\n",
       "\n",
       "    .dataframe thead th {\n",
       "        text-align: right;\n",
       "    }\n",
       "</style>\n",
       "<table border=\"1\" class=\"dataframe\">\n",
       "  <thead>\n",
       "    <tr style=\"text-align: right;\">\n",
       "      <th></th>\n",
       "      <th>asin</th>\n",
       "      <th>title</th>\n",
       "      <th>author</th>\n",
       "      <th>rating</th>\n",
       "      <th>categories</th>\n",
       "      <th>reviews_count</th>\n",
       "    </tr>\n",
       "  </thead>\n",
       "  <tbody>\n",
       "    <tr>\n",
       "      <th>269</th>\n",
       "      <td>0345816021</td>\n",
       "      <td>12 Rules for Life: An Antidote to Chaos</td>\n",
       "      <td>Jordan B. Peterson</td>\n",
       "      <td>4.8</td>\n",
       "      <td>[Health, Fitness &amp; Dieting, Psychology &amp; Couns...</td>\n",
       "      <td>43801</td>\n",
       "    </tr>\n",
       "    <tr>\n",
       "      <th>101</th>\n",
       "      <td>0141988517</td>\n",
       "      <td>12 Rules for Life: An Antidote to Chaos</td>\n",
       "      <td>Jordan B. Peterson</td>\n",
       "      <td>4.8</td>\n",
       "      <td>[Business &amp; Money, Job Hunting &amp; Careers]</td>\n",
       "      <td>43801</td>\n",
       "    </tr>\n",
       "    <tr>\n",
       "      <th>2198</th>\n",
       "      <td>B0797Y87JC</td>\n",
       "      <td>12 Rules for Life: An Antidote to Chaos</td>\n",
       "      <td>Jordan B. Peterson (Author, Narrator), Norman ...</td>\n",
       "      <td>4.8</td>\n",
       "      <td>[Health, Fitness &amp; Dieting, Psychology &amp; Couns...</td>\n",
       "      <td>43801</td>\n",
       "    </tr>\n",
       "    <tr>\n",
       "      <th>1760</th>\n",
       "      <td>B09C6GMVLH</td>\n",
       "      <td>1984</td>\n",
       "      <td>George Orwell</td>\n",
       "      <td>4.7</td>\n",
       "      <td>[Politics &amp; Social Sciences, Social Sciences]</td>\n",
       "      <td>55581</td>\n",
       "    </tr>\n",
       "    <tr>\n",
       "      <th>1749</th>\n",
       "      <td>B0968319S1</td>\n",
       "      <td>1984</td>\n",
       "      <td>George Orwell (Author), Benjamin May (Narrator...</td>\n",
       "      <td>4.7</td>\n",
       "      <td>[Science Fiction &amp; Fantasy, Science Fiction, D...</td>\n",
       "      <td>55582</td>\n",
       "    </tr>\n",
       "    <tr>\n",
       "      <th>...</th>\n",
       "      <td>...</td>\n",
       "      <td>...</td>\n",
       "      <td>...</td>\n",
       "      <td>...</td>\n",
       "      <td>...</td>\n",
       "      <td>...</td>\n",
       "    </tr>\n",
       "    <tr>\n",
       "      <th>624</th>\n",
       "      <td>0765365286</td>\n",
       "      <td>Words of Radiance: Book Two of the Stormlight ...</td>\n",
       "      <td>Brandon Sanderson</td>\n",
       "      <td>4.9</td>\n",
       "      <td>[Literature &amp; Fiction, Action &amp; Adventure]</td>\n",
       "      <td>18070</td>\n",
       "    </tr>\n",
       "    <tr>\n",
       "      <th>430</th>\n",
       "      <td>0553386883</td>\n",
       "      <td>Written in My Own Heart's Blood: A Novel (Outl...</td>\n",
       "      <td>Diana Gabaldon</td>\n",
       "      <td>4.8</td>\n",
       "      <td>[Science Fiction &amp; Fantasy, Fantasy]</td>\n",
       "      <td>23889</td>\n",
       "    </tr>\n",
       "    <tr>\n",
       "      <th>749</th>\n",
       "      <td>110188424X</td>\n",
       "      <td>Written in My Own Heart's Blood: A Novel (Outl...</td>\n",
       "      <td>Diana Gabaldon</td>\n",
       "      <td>4.8</td>\n",
       "      <td>[Science Fiction &amp; Fantasy, Fantasy]</td>\n",
       "      <td>23889</td>\n",
       "    </tr>\n",
       "    <tr>\n",
       "      <th>1981</th>\n",
       "      <td>B00M284NY2</td>\n",
       "      <td>Zero to One: Notes on Startups, or How to Buil...</td>\n",
       "      <td>Peter Thiel (Author), Blake Masters (Author, N...</td>\n",
       "      <td>4.6</td>\n",
       "      <td>[Business &amp; Money, Job Hunting &amp; Careers, Guides]</td>\n",
       "      <td>10690</td>\n",
       "    </tr>\n",
       "    <tr>\n",
       "      <th>689</th>\n",
       "      <td>0804139296</td>\n",
       "      <td>Zero to One: Notes on Startups, or How to Buil...</td>\n",
       "      <td>Peter ThielBlake Masters</td>\n",
       "      <td>4.6</td>\n",
       "      <td>[Business &amp; Money, Finance]</td>\n",
       "      <td>10690</td>\n",
       "    </tr>\n",
       "  </tbody>\n",
       "</table>\n",
       "<p>1095 rows × 6 columns</p>\n",
       "</div>"
      ],
      "text/plain": [
       "            asin                                              title  \\\n",
       "269   0345816021            12 Rules for Life: An Antidote to Chaos   \n",
       "101   0141988517            12 Rules for Life: An Antidote to Chaos   \n",
       "2198  B0797Y87JC            12 Rules for Life: An Antidote to Chaos   \n",
       "1760  B09C6GMVLH                                               1984   \n",
       "1749  B0968319S1                                               1984   \n",
       "...          ...                                                ...   \n",
       "624   0765365286  Words of Radiance: Book Two of the Stormlight ...   \n",
       "430   0553386883  Written in My Own Heart's Blood: A Novel (Outl...   \n",
       "749   110188424X  Written in My Own Heart's Blood: A Novel (Outl...   \n",
       "1981  B00M284NY2  Zero to One: Notes on Startups, or How to Buil...   \n",
       "689   0804139296  Zero to One: Notes on Startups, or How to Buil...   \n",
       "\n",
       "                                                 author  rating  \\\n",
       "269                                  Jordan B. Peterson     4.8   \n",
       "101                                  Jordan B. Peterson     4.8   \n",
       "2198  Jordan B. Peterson (Author, Narrator), Norman ...     4.8   \n",
       "1760                                      George Orwell     4.7   \n",
       "1749  George Orwell (Author), Benjamin May (Narrator...     4.7   \n",
       "...                                                 ...     ...   \n",
       "624                                   Brandon Sanderson     4.9   \n",
       "430                                      Diana Gabaldon     4.8   \n",
       "749                                      Diana Gabaldon     4.8   \n",
       "1981  Peter Thiel (Author), Blake Masters (Author, N...     4.6   \n",
       "689                            Peter ThielBlake Masters     4.6   \n",
       "\n",
       "                                             categories  reviews_count  \n",
       "269   [Health, Fitness & Dieting, Psychology & Couns...          43801  \n",
       "101           [Business & Money, Job Hunting & Careers]          43801  \n",
       "2198  [Health, Fitness & Dieting, Psychology & Couns...          43801  \n",
       "1760      [Politics & Social Sciences, Social Sciences]          55581  \n",
       "1749  [Science Fiction & Fantasy, Science Fiction, D...          55582  \n",
       "...                                                 ...            ...  \n",
       "624          [Literature & Fiction, Action & Adventure]          18070  \n",
       "430                [Science Fiction & Fantasy, Fantasy]          23889  \n",
       "749                [Science Fiction & Fantasy, Fantasy]          23889  \n",
       "1981  [Business & Money, Job Hunting & Careers, Guides]          10690  \n",
       "689                         [Business & Money, Finance]          10690  \n",
       "\n",
       "[1095 rows x 6 columns]"
      ]
     },
     "execution_count": 17,
     "metadata": {},
     "output_type": "execute_result"
    }
   ],
   "source": [
    "df_books[df_books.duplicated(subset='title', keep=False)].sort_values(by='title')"
   ]
  },
  {
   "cell_type": "code",
   "execution_count": 18,
   "id": "2f0c6b91-5627-4426-95ab-00ec2b12d8ca",
   "metadata": {},
   "outputs": [
    {
     "data": {
      "text/html": [
       "<div>\n",
       "<style scoped>\n",
       "    .dataframe tbody tr th:only-of-type {\n",
       "        vertical-align: middle;\n",
       "    }\n",
       "\n",
       "    .dataframe tbody tr th {\n",
       "        vertical-align: top;\n",
       "    }\n",
       "\n",
       "    .dataframe thead th {\n",
       "        text-align: right;\n",
       "    }\n",
       "</style>\n",
       "<table border=\"1\" class=\"dataframe\">\n",
       "  <thead>\n",
       "    <tr style=\"text-align: right;\">\n",
       "      <th></th>\n",
       "      <th>asin</th>\n",
       "      <th>title</th>\n",
       "      <th>author</th>\n",
       "      <th>rating</th>\n",
       "      <th>categories</th>\n",
       "      <th>reviews_count</th>\n",
       "    </tr>\n",
       "  </thead>\n",
       "  <tbody>\n",
       "    <tr>\n",
       "      <th>1328</th>\n",
       "      <td>1912714949</td>\n",
       "      <td>The Secret Garden (Chiltern Classic)</td>\n",
       "      <td>Frances Hodgson Burnett</td>\n",
       "      <td>4.7</td>\n",
       "      <td>[Crafts, Hobbies &amp; Home, Antiques &amp; Collectibles]</td>\n",
       "      <td>10041</td>\n",
       "    </tr>\n",
       "    <tr>\n",
       "      <th>50</th>\n",
       "      <td>0062981951</td>\n",
       "      <td>The Secret Garden</td>\n",
       "      <td>Frances Hodgson Burnett</td>\n",
       "      <td>4.7</td>\n",
       "      <td>[Children's Books, Literature &amp; Fiction]</td>\n",
       "      <td>10041</td>\n",
       "    </tr>\n",
       "    <tr>\n",
       "      <th>85</th>\n",
       "      <td>006440188X</td>\n",
       "      <td>The Secret Garden (HarperClassics)</td>\n",
       "      <td>Frances Hodgson Burnett</td>\n",
       "      <td>4.7</td>\n",
       "      <td>[Children's Books, Literature &amp; Fiction]</td>\n",
       "      <td>10041</td>\n",
       "    </tr>\n",
       "    <tr>\n",
       "      <th>1001</th>\n",
       "      <td>1501111116</td>\n",
       "      <td>Grit: The Power of Passion and Perseverance</td>\n",
       "      <td>Angela Duckworth</td>\n",
       "      <td>4.6</td>\n",
       "      <td>[Health, Fitness &amp; Dieting, Psychology &amp; Couns...</td>\n",
       "      <td>10042</td>\n",
       "    </tr>\n",
       "    <tr>\n",
       "      <th>998</th>\n",
       "      <td>1501111108</td>\n",
       "      <td>Grit: The Power of Passion and Perseverance</td>\n",
       "      <td>Angela Duckworth</td>\n",
       "      <td>4.6</td>\n",
       "      <td>[Health, Fitness &amp; Dieting, Psychology &amp; Couns...</td>\n",
       "      <td>10042</td>\n",
       "    </tr>\n",
       "    <tr>\n",
       "      <th>...</th>\n",
       "      <td>...</td>\n",
       "      <td>...</td>\n",
       "      <td>...</td>\n",
       "      <td>...</td>\n",
       "      <td>...</td>\n",
       "      <td>...</td>\n",
       "    </tr>\n",
       "    <tr>\n",
       "      <th>528</th>\n",
       "      <td>0525559477</td>\n",
       "      <td>The Midnight Library: A Novel</td>\n",
       "      <td>Matt Haig</td>\n",
       "      <td>4.3</td>\n",
       "      <td>[Science Fiction &amp; Fantasy, Science Fiction]</td>\n",
       "      <td>122000</td>\n",
       "    </tr>\n",
       "    <tr>\n",
       "      <th>1578</th>\n",
       "      <td>B085S8BSYS</td>\n",
       "      <td>The Midnight Library: A Novel</td>\n",
       "      <td>Matt Haig (Author), Carey Mulligan (Narrator),...</td>\n",
       "      <td>4.3</td>\n",
       "      <td>[Science Fiction &amp; Fantasy, Science Fiction, T...</td>\n",
       "      <td>122000</td>\n",
       "    </tr>\n",
       "    <tr>\n",
       "      <th>640</th>\n",
       "      <td>0735219095</td>\n",
       "      <td>Where the Crawdads Sing</td>\n",
       "      <td>Delia Owens</td>\n",
       "      <td>4.8</td>\n",
       "      <td>[Literature &amp; Fiction, Genre Fiction]</td>\n",
       "      <td>196572</td>\n",
       "    </tr>\n",
       "    <tr>\n",
       "      <th>461</th>\n",
       "      <td>0593105419</td>\n",
       "      <td>Where the Crawdads Sing</td>\n",
       "      <td>Delia Owens</td>\n",
       "      <td>4.8</td>\n",
       "      <td>[Literature &amp; Fiction, Genre Fiction]</td>\n",
       "      <td>196572</td>\n",
       "    </tr>\n",
       "    <tr>\n",
       "      <th>641</th>\n",
       "      <td>0735219109</td>\n",
       "      <td>Where the Crawdads Sing</td>\n",
       "      <td>Delia Owens</td>\n",
       "      <td>4.8</td>\n",
       "      <td>[Literature &amp; Fiction, Genre Fiction]</td>\n",
       "      <td>196572</td>\n",
       "    </tr>\n",
       "  </tbody>\n",
       "</table>\n",
       "<p>1803 rows × 6 columns</p>\n",
       "</div>"
      ],
      "text/plain": [
       "            asin                                        title  \\\n",
       "1328  1912714949         The Secret Garden (Chiltern Classic)   \n",
       "50    0062981951                            The Secret Garden   \n",
       "85    006440188X           The Secret Garden (HarperClassics)   \n",
       "1001  1501111116  Grit: The Power of Passion and Perseverance   \n",
       "998   1501111108  Grit: The Power of Passion and Perseverance   \n",
       "...          ...                                          ...   \n",
       "528   0525559477                The Midnight Library: A Novel   \n",
       "1578  B085S8BSYS                The Midnight Library: A Novel   \n",
       "640   0735219095                      Where the Crawdads Sing   \n",
       "461   0593105419                      Where the Crawdads Sing   \n",
       "641   0735219109                      Where the Crawdads Sing   \n",
       "\n",
       "                                                 author  rating  \\\n",
       "1328                            Frances Hodgson Burnett     4.7   \n",
       "50                              Frances Hodgson Burnett     4.7   \n",
       "85                              Frances Hodgson Burnett     4.7   \n",
       "1001                                   Angela Duckworth     4.6   \n",
       "998                                    Angela Duckworth     4.6   \n",
       "...                                                 ...     ...   \n",
       "528                                           Matt Haig     4.3   \n",
       "1578  Matt Haig (Author), Carey Mulligan (Narrator),...     4.3   \n",
       "640                                         Delia Owens     4.8   \n",
       "461                                         Delia Owens     4.8   \n",
       "641                                         Delia Owens     4.8   \n",
       "\n",
       "                                             categories  reviews_count  \n",
       "1328  [Crafts, Hobbies & Home, Antiques & Collectibles]          10041  \n",
       "50             [Children's Books, Literature & Fiction]          10041  \n",
       "85             [Children's Books, Literature & Fiction]          10041  \n",
       "1001  [Health, Fitness & Dieting, Psychology & Couns...          10042  \n",
       "998   [Health, Fitness & Dieting, Psychology & Couns...          10042  \n",
       "...                                                 ...            ...  \n",
       "528        [Science Fiction & Fantasy, Science Fiction]         122000  \n",
       "1578  [Science Fiction & Fantasy, Science Fiction, T...         122000  \n",
       "640               [Literature & Fiction, Genre Fiction]         196572  \n",
       "461               [Literature & Fiction, Genre Fiction]         196572  \n",
       "641               [Literature & Fiction, Genre Fiction]         196572  \n",
       "\n",
       "[1803 rows x 6 columns]"
      ]
     },
     "execution_count": 18,
     "metadata": {},
     "output_type": "execute_result"
    }
   ],
   "source": [
    "df_books[df_books.duplicated(subset='reviews_count', keep=False)].sort_values(by='reviews_count')"
   ]
  },
  {
   "cell_type": "markdown",
   "id": "7c9e050b-8d52-4f99-9692-559f9d8c5167",
   "metadata": {},
   "source": [
    "From the preview above, the duplicate titles in the dataset share the following characteristics:\n",
    "- Identical review count and rating\n",
    "- Author may be different\n",
    "- Different entries belong to different categories\n",
    "\n",
    "Looking at '1984' by George Orwell as an example:"
   ]
  },
  {
   "cell_type": "code",
   "execution_count": 19,
   "id": "7c188b37-ad0c-432c-91b7-aca5d736a803",
   "metadata": {},
   "outputs": [
    {
     "name": "stdout",
     "output_type": "stream",
     "text": [
      "Index [416] has categories ['Literature & Fiction', 'Genre Fiction']\n",
      "Index [418] has categories ['Literature & Fiction', 'Genre Fiction']\n",
      "Index [786] has categories ['Literature & Fiction', 'Genre Fiction']\n",
      "Index [1694] has categories ['Literature & Fiction', 'Genre Fiction', 'Political']\n",
      "Index [1749] has categories ['Science Fiction & Fantasy', 'Science Fiction', 'Dystopian']\n",
      "Index [1760] has categories ['Politics & Social Sciences', 'Social Sciences']\n"
     ]
    }
   ],
   "source": [
    "for index,row in df_books[df_books.title == \"1984\"].iterrows():\n",
    "    print(f\"Index [{index}] has categories {row['categories']}\")"
   ]
  },
  {
   "cell_type": "markdown",
   "id": "f89d94f9-308a-4d12-9a9d-7693cae9a7bf",
   "metadata": {},
   "source": [
    "To consolidate all the duplicate entries, we can take the following approach:\n",
    "\n",
    "1. Duplicates (based on titles)\n",
    "    - Loop over the sorted duplicate titles in the dataset\n",
    "    - Maintain a list of all the categories for a specific title\n",
    "    - Maintain a list of all the indices for a specific title\n",
    "    - Once a different title is encountered:\n",
    "        - Get the first index for that title\n",
    "        - Assign the unique categories to that title\n",
    "        - Drop the rest of the indices\n",
    "    - Repeat until the dataframe is exhausted\n",
    "    \n",
    "2. Duplicates (based on reviews and rating)\n",
    "    - Loop over the dataset sorted by rating and review count\n",
    "    - Assume that a different rating/review combination is a new book\n",
    "    - Maintain a list of all the categories for a specific book\n",
    "    - Maintain a list of all the indices for a specific book\n",
    "    - Once a different book is encountered:\n",
    "        - Get the first index for that title\n",
    "        - Assign the unique categories to that title\n",
    "        - Drop the rest of the indices\n",
    "    - Repeat until the dataframe is exhausted"
   ]
  },
  {
   "cell_type": "code",
   "execution_count": 20,
   "id": "c9b0e9a1-6d27-476b-ae86-25c3ea9ace76",
   "metadata": {},
   "outputs": [],
   "source": [
    "# Duplicate Titles\n",
    "first_loop = True\n",
    "curr_categories = []\n",
    "for index,book in df_books[df_books.duplicated(subset='title', keep=False)].sort_values(by='title').iterrows():\n",
    "    if first_loop:\n",
    "        # the first loop\n",
    "        # initialize the lists\n",
    "        first_loop = False\n",
    "        prev_book = book # set the current book as the new book\n",
    "        curr_categories = book['categories']\n",
    "        curr_indices = [index]\n",
    "    elif prev_book['title'] != book['title']:\n",
    "        # a new book title\n",
    "        df_books.drop(curr_indices[1:], axis=0, inplace=True) # drop the extra rows  \n",
    "        df_books.at[curr_indices[0], 'categories'] = list(set(curr_categories)) # assign the unique categories  \n",
    "        prev_book = book # set the current book as the new book\n",
    "        curr_categories = book['categories']\n",
    "        curr_indices = [index]\n",
    "    else:\n",
    "        # a previously encountered title\n",
    "        curr_categories.extend(book['categories']) # add the current entry's categories\n",
    "        curr_indices.append(index) # add the current entry's index\n",
    "else:\n",
    "    # the last book in the loop\n",
    "    df_books.drop(curr_indices[1:], axis=0, inplace=True)\n",
    "    df_books.at[curr_indices[0], 'categories'] = list(set(curr_categories))\n",
    "    \n",
    "\n",
    "    "
   ]
  },
  {
   "cell_type": "code",
   "execution_count": 21,
   "id": "5704933e-0d33-44e7-bfd2-5cb2189cafea",
   "metadata": {},
   "outputs": [],
   "source": [
    "# Duplicate Ratings/Reviews\n",
    "first_loop = True\n",
    "curr_categories = []\n",
    "for index,book in df_books[df_books.duplicated(subset='reviews_count', keep=False)].sort_values(by=['reviews_count', 'rating']).iterrows():\n",
    "    if first_loop:\n",
    "        # the first loop\n",
    "        # initialize the lists\n",
    "        first_loop = False\n",
    "        prev_book = book # set the current book as the new book\n",
    "        curr_categories = book['categories']\n",
    "        curr_indices = [index]\n",
    "    elif prev_book['reviews_count'] != book['reviews_count'] or prev_book['rating'] != book['rating']:\n",
    "        # a new book (based rating and review count)\n",
    "        df_books.drop(curr_indices[1:], axis=0, inplace=True) # drop the extra rows  \n",
    "        df_books.at[curr_indices[0], 'categories'] = list(set(curr_categories)) # assign the unique categories  \n",
    "        prev_book = book # set the current book as the new book\n",
    "        curr_categories = book['categories']\n",
    "        curr_indices = [index]\n",
    "    else:\n",
    "        # a previously encountered book (based rating and review count)\n",
    "        curr_categories.extend(book['categories']) # add the current entry's categories\n",
    "        curr_indices.append(index) # add the current entry's index\n",
    "else:\n",
    "    # the last book in the loop\n",
    "    df_books.drop(curr_indices[1:], axis=0, inplace=True)\n",
    "    df_books.at[curr_indices[0], 'categories'] = list(set(curr_categories))"
   ]
  },
  {
   "cell_type": "markdown",
   "id": "d657f8f4-ef70-41f4-a21e-38ae2c4a39e8",
   "metadata": {},
   "source": [
    "Checking '1984' to confirm that 1 row remains with all the categories:"
   ]
  },
  {
   "cell_type": "code",
   "execution_count": 22,
   "id": "51385198-9d92-4b4d-aaab-d3b395f32b45",
   "metadata": {},
   "outputs": [
    {
     "name": "stdout",
     "output_type": "stream",
     "text": [
      "Index [1760] has categories ['Genre Fiction', 'Dystopian', 'Science Fiction & Fantasy', 'Social Sciences', 'Science Fiction', 'Politics & Social Sciences', 'Political', 'Literature & Fiction']\n"
     ]
    }
   ],
   "source": [
    "for index,row in df_books[df_books.title == \"1984\"].iterrows():\n",
    "    print(f\"Index [{index}] has categories {row['categories']}\")"
   ]
  },
  {
   "cell_type": "code",
   "execution_count": 23,
   "id": "1cece356-e0ef-45a6-a279-278335efd837",
   "metadata": {},
   "outputs": [
    {
     "data": {
      "text/plain": [
       "(1059, 6)"
      ]
     },
     "execution_count": 23,
     "metadata": {},
     "output_type": "execute_result"
    }
   ],
   "source": [
    "df_books.shape"
   ]
  },
  {
   "cell_type": "markdown",
   "id": "5a62f509-c03c-416e-a393-d541b3102718",
   "metadata": {},
   "source": [
    "The removal of duplicates reduced the overall dataset size to 1062 rows. The last check in the data cleaning step is for any null values:"
   ]
  },
  {
   "cell_type": "code",
   "execution_count": 24,
   "id": "4273f9eb-9f2b-431f-9064-0220cf10ece7",
   "metadata": {},
   "outputs": [
    {
     "data": {
      "text/plain": [
       "asin             0\n",
       "title            0\n",
       "author           1\n",
       "rating           0\n",
       "categories       0\n",
       "reviews_count    0\n",
       "dtype: int64"
      ]
     },
     "execution_count": 24,
     "metadata": {},
     "output_type": "execute_result"
    }
   ],
   "source": [
    "df_books.isnull().sum()"
   ]
  },
  {
   "cell_type": "code",
   "execution_count": 25,
   "id": "d9879470-aa7f-440e-9d93-8255223363a1",
   "metadata": {},
   "outputs": [
    {
     "data": {
      "text/html": [
       "<div>\n",
       "<style scoped>\n",
       "    .dataframe tbody tr th:only-of-type {\n",
       "        vertical-align: middle;\n",
       "    }\n",
       "\n",
       "    .dataframe tbody tr th {\n",
       "        vertical-align: top;\n",
       "    }\n",
       "\n",
       "    .dataframe thead th {\n",
       "        text-align: right;\n",
       "    }\n",
       "</style>\n",
       "<table border=\"1\" class=\"dataframe\">\n",
       "  <thead>\n",
       "    <tr style=\"text-align: right;\">\n",
       "      <th></th>\n",
       "      <th>asin</th>\n",
       "      <th>title</th>\n",
       "      <th>author</th>\n",
       "      <th>rating</th>\n",
       "      <th>categories</th>\n",
       "      <th>reviews_count</th>\n",
       "    </tr>\n",
       "  </thead>\n",
       "  <tbody>\n",
       "    <tr>\n",
       "      <th>594</th>\n",
       "      <td>0762459816</td>\n",
       "      <td>The Screaming Goat (Book &amp; Figure)</td>\n",
       "      <td>NaN</td>\n",
       "      <td>4.7</td>\n",
       "      <td>[Humor &amp; Entertainment, Humor]</td>\n",
       "      <td>22185</td>\n",
       "    </tr>\n",
       "  </tbody>\n",
       "</table>\n",
       "</div>"
      ],
      "text/plain": [
       "           asin                               title author  rating  \\\n",
       "594  0762459816  The Screaming Goat (Book & Figure)    NaN     4.7   \n",
       "\n",
       "                         categories  reviews_count  \n",
       "594  [Humor & Entertainment, Humor]          22185  "
      ]
     },
     "execution_count": 25,
     "metadata": {},
     "output_type": "execute_result"
    }
   ],
   "source": [
    "df_books[df_books['author'].isnull()]"
   ]
  },
  {
   "cell_type": "markdown",
   "id": "7e84a1c8-8925-4142-8cd0-49be81d80f19",
   "metadata": {},
   "source": [
    "After checking the book above manually on Amazon, it seems that there is no specific author but it is listed under the publisher. To avoid errors, we will manually set the author to the publisher i.e. 'Running Press'. Since it is the only null field, the fillna() function can be used."
   ]
  },
  {
   "cell_type": "code",
   "execution_count": 26,
   "id": "f52438a6-a0f3-4c33-baf3-bff2b3e43b74",
   "metadata": {},
   "outputs": [],
   "source": [
    "df_books.fillna(\"Running Press\", inplace=True)"
   ]
  },
  {
   "cell_type": "code",
   "execution_count": 27,
   "id": "053f171e-6aad-4eeb-9719-ce99e74b1f4a",
   "metadata": {},
   "outputs": [
    {
     "data": {
      "text/plain": [
       "asin                                                    1508239789\n",
       "title                         All the Light We Cannot See: A Novel\n",
       "author                                               Anthony Doerr\n",
       "rating                                                         4.6\n",
       "categories       [Genre Fiction, Military, Literature & Fiction...\n",
       "reviews_count                                                53837\n",
       "Name: 1053, dtype: object"
      ]
     },
     "execution_count": 27,
     "metadata": {},
     "output_type": "execute_result"
    }
   ],
   "source": [
    "df_books.iloc[594]"
   ]
  },
  {
   "cell_type": "code",
   "execution_count": 28,
   "id": "6776213e-f1f1-4fe4-b33e-ff6e08c7adc9",
   "metadata": {},
   "outputs": [
    {
     "data": {
      "text/html": [
       "<div>\n",
       "<style scoped>\n",
       "    .dataframe tbody tr th:only-of-type {\n",
       "        vertical-align: middle;\n",
       "    }\n",
       "\n",
       "    .dataframe tbody tr th {\n",
       "        vertical-align: top;\n",
       "    }\n",
       "\n",
       "    .dataframe thead th {\n",
       "        text-align: right;\n",
       "    }\n",
       "</style>\n",
       "<table border=\"1\" class=\"dataframe\">\n",
       "  <thead>\n",
       "    <tr style=\"text-align: right;\">\n",
       "      <th></th>\n",
       "      <th>asin</th>\n",
       "      <th>title</th>\n",
       "      <th>author</th>\n",
       "      <th>rating</th>\n",
       "      <th>categories</th>\n",
       "      <th>reviews_count</th>\n",
       "    </tr>\n",
       "  </thead>\n",
       "  <tbody>\n",
       "  </tbody>\n",
       "</table>\n",
       "</div>"
      ],
      "text/plain": [
       "Empty DataFrame\n",
       "Columns: [asin, title, author, rating, categories, reviews_count]\n",
       "Index: []"
      ]
     },
     "execution_count": 28,
     "metadata": {},
     "output_type": "execute_result"
    }
   ],
   "source": [
    "df_books[df_books['author'].isnull()]"
   ]
  },
  {
   "cell_type": "markdown",
   "id": "d3b74784-3358-4319-b709-aef7f9e66aea",
   "metadata": {},
   "source": [
    "### Data Analysis"
   ]
  },
  {
   "cell_type": "markdown",
   "id": "1b528858-5a62-4f4a-bde0-e3bb30d0feff",
   "metadata": {},
   "source": [
    "To analyse the counts of each occurence within the dataset, we define a helper function which returns a sorted counter. The function can also handle columns which are lists such as the 'categories' column."
   ]
  },
  {
   "cell_type": "code",
   "execution_count": 29,
   "id": "bb40b8c7-d5bc-416f-a1f3-857220f84eca",
   "metadata": {},
   "outputs": [],
   "source": [
    "def get_count_per_column(df, counted_column, is_list = False):\n",
    "    all_occurrences = []\n",
    "    for book_column in df[counted_column]: # append all the occurrences to a single list\n",
    "        if is_list:\n",
    "            all_occurrences.extend(book_column) \n",
    "        else:\n",
    "            all_occurrences.append(book_column)\n",
    "    counts = {}\n",
    "    for occurrence in all_occurrences:\n",
    "        counts[occurrence] = counts.get(occurrence,0) + 1  # increment the counter for each occurrence\n",
    "    sorted_counts = sorted(counts.items(), key=lambda x: x[1], reverse=True)  # sort according to count, highest to lowest\n",
    "    return sorted_counts"
   ]
  },
  {
   "cell_type": "code",
   "execution_count": 30,
   "id": "14416de2-9e63-4ae4-b9ba-f587c0490102",
   "metadata": {},
   "outputs": [
    {
     "data": {
      "text/plain": [
       "[('Sarah J. Maas', 13),\n",
       " ('John Grisham', 12),\n",
       " ('Dav Pilkey', 11),\n",
       " ('Stephen King', 10),\n",
       " ('Julia Quinn', 8),\n",
       " ('Dr. Seuss', 8)]"
      ]
     },
     "execution_count": 30,
     "metadata": {},
     "output_type": "execute_result"
    }
   ],
   "source": [
    "author_counts = get_count_per_column(df_books, 'author')\n",
    "author_counts[:6] # top 5 occurring authors"
   ]
  },
  {
   "cell_type": "code",
   "execution_count": 31,
   "id": "cba9cc31-f4b6-4e58-9289-66192b1bbf1f",
   "metadata": {},
   "outputs": [
    {
     "data": {
      "text/plain": [
       "776"
      ]
     },
     "execution_count": 31,
     "metadata": {},
     "output_type": "execute_result"
    }
   ],
   "source": [
    "len(author_counts) # distinct authors"
   ]
  },
  {
   "cell_type": "code",
   "execution_count": 32,
   "id": "6b585cdd-593c-434d-9a56-d6e7a3744adf",
   "metadata": {},
   "outputs": [
    {
     "data": {
      "text/plain": [
       "[('Literature & Fiction', 445),\n",
       " ('Genre Fiction', 222),\n",
       " ('Mystery, Thriller & Suspense', 208),\n",
       " (\"Children's Books\", 204),\n",
       " ('Thrillers & Suspense', 145),\n",
       " ('Action & Adventure', 96),\n",
       " ('Mystery', 79),\n",
       " ('Growing Up & Facts of Life', 76),\n",
       " ('Teen & Young Adult', 76),\n",
       " ('Science Fiction & Fantasy', 69),\n",
       " ('Historical', 61)]"
      ]
     },
     "execution_count": 32,
     "metadata": {},
     "output_type": "execute_result"
    }
   ],
   "source": [
    "category_counts = get_count_per_column(df_books, 'categories', True) \n",
    "category_counts[:11] # top 10 occurring categories"
   ]
  },
  {
   "cell_type": "code",
   "execution_count": 33,
   "id": "b6af3c69-9697-4bbb-90e7-8c612e8f6b7a",
   "metadata": {},
   "outputs": [
    {
     "data": {
      "text/plain": [
       "[('Electronic Learning Toys', 1),\n",
       " ('Witchcraft', 1),\n",
       " ('Longevity', 1),\n",
       " ('Aging', 1),\n",
       " ('Calendars', 1),\n",
       " ('Dogs', 1),\n",
       " ('Probability & Statistics', 1),\n",
       " ('Behavioral Sciences', 1),\n",
       " ('Cognitive Psychology', 1),\n",
       " ('Romantic Comedy', 1)]"
      ]
     },
     "execution_count": 33,
     "metadata": {},
     "output_type": "execute_result"
    }
   ],
   "source": [
    "category_counts[-10:] # 10 least occurring categories"
   ]
  },
  {
   "cell_type": "code",
   "execution_count": 34,
   "id": "79f7028a-eef1-4992-8f96-2fb7b67e3cb3",
   "metadata": {},
   "outputs": [
    {
     "data": {
      "text/plain": [
       "368"
      ]
     },
     "execution_count": 34,
     "metadata": {},
     "output_type": "execute_result"
    }
   ],
   "source": [
    "len(category_counts) # number distinct categories"
   ]
  },
  {
   "cell_type": "markdown",
   "id": "5cedca27-3e6f-4bf9-ab1a-f032e0bd654e",
   "metadata": {},
   "source": [
    "From the category counts, it is clear that the dataset is heavily skewed towards fictional books, with more than a third of the books falling within the 'Literature and Fiction' category which is a very broad category. On the other hand, some categories which are highly specific are only encountered by a single book. Certain categories are also interchangeable such as 'Genre Fiction' and 'Literature & Fiction'. "
   ]
  },
  {
   "cell_type": "code",
   "execution_count": 35,
   "id": "42f60219-36f3-471d-acdd-d284c977faee",
   "metadata": {},
   "outputs": [
    {
     "data": {
      "image/png": "[encoded data removed]",
      "text/plain": [
       "<Figure size 640x480 with 1 Axes>"
      ]
     },
     "metadata": {},
     "output_type": "display_data"
    }
   ],
   "source": [
    "categ_ten_plus = len([category[0] for category in category_counts if category[1] > 10])\n",
    "categ_one_book = len([category[0] for category in category_counts if category[1] == 1])\n",
    "pie_categ_array = np.array([categ_one_book, categ_ten_plus, len(category_counts) - categ_ten_plus- categ_one_book])\n",
    "pie_categ_labels = [\"Only 1 book\",\">10 books\", \"2-10 books\"]\n",
    "plt.pie(pie_categ_array, labels = pie_categ_labels, autopct='%1.1f%%')\n",
    "plt.title(\"Number of Books belonging to Category\")\n",
    "plt.show()"
   ]
  },
  {
   "cell_type": "markdown",
   "id": "b47ca199-a572-4259-8ba4-ccc84e4f1e22",
   "metadata": {},
   "source": [
    "From the pie chart above, most categories have between 2 and 10 books attributed to them whereas more than a third of the categories are only attributed to a single book. "
   ]
  },
  {
   "cell_type": "markdown",
   "id": "3fc1553a-5b24-47b2-8753-f7e02bcb74e1",
   "metadata": {},
   "source": [
    "## Limitations and Solutions\n",
    "\n",
    "From the analysis above, a number of worst case scenarios were identified which need to be handled by the recommendation system:\n",
    "\n",
    "1. All the books inputted to the user belong to a distinct category i.e. no common category between inputs.\n",
    "2. All the books in the category are already read or too little books exist in the category.\n",
    "\n",
    "To cater for the first scenario, the recommendation system must handle returning more than 1 common category and return the highest-rated, unread book in the category. Therefore, assuming scenario 1, the system would recommend the highest-rated book from each of the inputted titles' categories.\n",
    "\n",
    "A solution for the second scenario would be to use NLP to find semantically similar categories and return the titles from those categories. A simpler alternative (albeit less accurate) could be to use fuzzy string matching with the 'fuzzywuzzy' Python package which computes the Levenshtein distance between text strings. \n",
    "\n",
    "While the former limitation will be catered for in this notebook, the latter is beyond the scope of this assignment and can be considered as a further improvement to the project.\n"
   ]
  },
  {
   "cell_type": "markdown",
   "id": "9454b90b-d00b-4feb-aee7-97d2a459d435",
   "metadata": {},
   "source": [
    "## Expert System in CLIPS"
   ]
  },
  {
   "cell_type": "markdown",
   "id": "9d0415bb-c254-461a-9db8-beda375076ab",
   "metadata": {},
   "source": [
    "The CLIPS implementation must be able to perform the following actions:\n",
    " 1. Accept 10 book titles as an input.\n",
    " 2. Infer the inputs' categories.\n",
    " 3. Keep counts for every category encountered.\n",
    " 4. Return the categories having the highest occurrence.\n",
    " \n",
    "To achieve the above, a number of templates are defined which can guide us through each step. "
   ]
  },
  {
   "cell_type": "code",
   "execution_count": 36,
   "id": "cf62f569-01bd-4aaa-845d-c4b430823db7",
   "metadata": {},
   "outputs": [],
   "source": [
    "# Initiating the CLIPS environment and logger\n",
    "env = Environment()\n",
    "\n",
    "logger = LoggingRouter() \n",
    "logformat = '%(asctime)s - %(levelname)s - %(message)s'\n",
    "logging.basicConfig(level=10, format=logformat)\n",
    "env.add_router(logger)\n",
    "\n",
    "# Defining the templates\n",
    "book_template = \"\"\"\n",
    "(deftemplate book\n",
    "  (slot title (type STRING))\n",
    "  (slot author (type STRING))\n",
    "  (slot category (type STRING))\n",
    ")\n",
    "\"\"\"\n",
    "\n",
    "user_input_template = \"\"\"\n",
    "(deftemplate user-input\n",
    "  (slot title (type STRING))\n",
    ")\n",
    "\"\"\"\n",
    "\n",
    "input_match_template = \"\"\"\n",
    "(deftemplate input-match\n",
    "  (slot title (type STRING))\n",
    "  (slot category (type STRING))\n",
    ")\n",
    "\"\"\"\n",
    "\n",
    "category_count_template = \"\"\"\n",
    "(deftemplate category-count\n",
    "  (slot category (type STRING))\n",
    "  (slot count (type INTEGER))\n",
    ")\n",
    "\"\"\"\n",
    "\n",
    "# injecting the templates into clips\n",
    "env.build(book_template)\n",
    "\n",
    "env.build(user_input_template)\n",
    "\n",
    "env.build(input_match_template)\n",
    "\n",
    "env.build(category_count_template)\n",
    "\n",
    "book_deftemplate = env.find_template('book')\n",
    "input_deftemplate = env.find_template('user-input')"
   ]
  },
  {
   "cell_type": "markdown",
   "id": "d8cf6bb8-3201-4c17-9702-b0bdb9cc040d",
   "metadata": {},
   "source": [
    "The next step is to initialise the knowledge base by looping over the books in the dataset and asserting them as 'book' template facts."
   ]
  },
  {
   "cell_type": "code",
   "execution_count": 37,
   "id": "d67a195b-cd46-4c5a-b8e5-78a3b3d10164",
   "metadata": {},
   "outputs": [],
   "source": [
    "for index, book in df_books.iterrows():\n",
    "    for book_category in book['categories']:\n",
    "        try:\n",
    "            book_deftemplate.assert_fact(title=book['title'], author=book['author'],category=book_category)\n",
    "        except:\n",
    "            print(f\"Error when inserting [{book['title']}] into the knowledge base!\")\n",
    "\n",
    "\n",
    "env.eval(\"(run)\")"
   ]
  },
  {
   "cell_type": "markdown",
   "id": "90a6eb42-cd24-410b-afe4-71100fcb381d",
   "metadata": {},
   "source": [
    "After inserting each book, we define the rules. The rules are split into 2 categories:\n",
    "1. Input Rules: these rules capture the user input and provide the most common category as a result.\n",
    "2. Reset Rules: these rules reset the knowledge base to the book facts only, primed for another user input."
   ]
  },
  {
   "cell_type": "code",
   "execution_count": 38,
   "id": "af68e64d-0f75-44a8-8038-b0452fb3cba2",
   "metadata": {},
   "outputs": [],
   "source": [
    "# INPUT RULES\n",
    "## List the user inputs\n",
    "rule_user_input = \"\"\"\n",
    "(defrule print-user-input\n",
    "  \"Prints the user input.\"\n",
    "  (declare (salience 90))\n",
    "  (user-input (title ?title))\n",
    "  =>\n",
    "  (println \"User input: \" ?title))\n",
    "\"\"\"\n",
    "\n",
    "\n",
    "env.build(rule_user_input)\n",
    "\n",
    "\n",
    "## Match the title to the book and category\n",
    "rule_match_title_to_category = \"\"\"\n",
    "(defrule match-title-category\n",
    "  \"Matches the input to the existing book fact\"\n",
    "  (declare (salience 90))\n",
    "  (book (title ?title) (author ?author) (category ?category))\n",
    "  (user-input (title ?title))\n",
    "  =>\n",
    "  (assert (input-match (title ?title) (category ?category)))\n",
    "  (println \"Matched book [\" ?title \"] to category [\" ?category \"]\"))\n",
    "\"\"\"\n",
    "\n",
    "env.build(rule_match_title_to_category)\n",
    "\n",
    "## Initiate count for the first input-match of the respective category\n",
    "rule_count_new_category = \"\"\"\n",
    "(defrule count-new-category\n",
    "  \"Increment the count for a category which is newly already encountered\"\n",
    "  (declare (salience 90))\n",
    "  ?b <- (input-match (title ?title) (category ?category))\n",
    "  (not (category-count (category ?category)))\n",
    "  =>\n",
    "  (println \"Found first book [\" ?title \"] for category [\" ?category \"]; Setting count to 1 \")\n",
    "  (assert (category-count (category ?category) (count 1)))\n",
    "  (retract ?b))\n",
    "\"\"\"\n",
    "\n",
    "env.build(rule_count_new_category)\n",
    "\n",
    "## Increment count for a category which was previously encountered\n",
    "rule_count_existing_category = \"\"\"\n",
    "(defrule count-existing-category\n",
    "  \"Increment the count for a category which was already encountered\"\n",
    "  (declare (salience 90))\n",
    "  ?b <- (input-match (title ?title) (category ?category))\n",
    "  ?c <- (category-count (category ?category) (count ?count1))\n",
    "  =>\n",
    "  (bind ?count2 (+ ?count1 1))\n",
    "  (println \"Found book [\" ?title \"] for category [\" ?category \"]; increasing count from  [\" ?count1 \"] to [\" ?count2 \"]\")\n",
    "  (modify ?c (count ?count2))\n",
    "  (retract ?b))\n",
    "\"\"\"\n",
    "\n",
    "env.build(rule_count_existing_category)\n",
    "\n",
    "\n",
    "## Compare category-counts and retract the one with the lower count\n",
    "rule_drop_least_common = \"\"\"\n",
    "(defrule drop-least-common-category\n",
    "(declare (salience 80))\n",
    "?c1 <- (category-count (category ?category1) (count ?count1))\n",
    "?c2 <- (category-count (category ?category2) (count ?count2)) (not (eq ?category1 ?category2))\n",
    "(test (> ?count1 ?count2))\n",
    "=>\n",
    "(retract ?c2)\n",
    "(println \"Category [\" ?category1 \"] has more entries than [\" ?category2 \"]\"))\n",
    "\"\"\"\n",
    "\n",
    "env.build(rule_drop_least_common)\n",
    "\n",
    "# Report the most common categories\n",
    "rule_report_most_common = \"\"\"\n",
    "(defrule report-most-common-category\n",
    "(declare (salience 70))\n",
    "(category-count (category ?category) (count ?count))\n",
    "=>\n",
    "(println \"The most common category is [\" ?category \"] with a count of [\" ?count \"]\"))\n",
    "\"\"\"\n",
    "env.build(rule_report_most_common)\n",
    "\n",
    "\n",
    "# RESET RULES\n",
    "## Reset user inputs\n",
    "rule_reset_user_inputs = \"\"\"\n",
    "(defrule reset-user-inputs\n",
    "(declare (salience 100))\n",
    "(reset-all)\n",
    "?i1 <- (user-input (title ?title))\n",
    "=>\n",
    "(retract ?i1))\n",
    "\"\"\"\n",
    "\n",
    "## Reset category counts\n",
    "env.build(rule_reset_user_inputs)\n",
    "\n",
    "rule_reset_category_counts = \"\"\"\n",
    "(defrule reset-category-counts\n",
    "(declare (salience 100))\n",
    "(reset-all)\n",
    "?c1 <- (category-count)\n",
    "=>\n",
    "(retract ?c1))\n",
    "\"\"\"\n",
    "\n",
    "env.build(rule_reset_category_counts)\n",
    "\n",
    "## Reset complete\n",
    "rule_reset_reset_complete = \"\"\"\n",
    "(defrule reset-complete\n",
    "(declare (salience 95))\n",
    "?r1 <- (reset-all)\n",
    "=>\n",
    "(retract ?r1)\n",
    "(println \"Reset Complete\"))\n",
    "\"\"\"\n",
    "\n",
    "env.build(rule_reset_reset_complete)\n",
    "\n"
   ]
  },
  {
   "cell_type": "markdown",
   "id": "0334702d-e6b7-40e1-8c6f-1a6d1fb2d968",
   "metadata": {},
   "source": [
    "For the user input, we have 2 options:\n",
    "\n",
    "1. Sampling 10 random titles from the dataset; OR\n",
    "2. Inputting 10 titles manually.\n",
    "\n",
    "Depending on the chosen input method, we can un/comment the below accordingly:"
   ]
  },
  {
   "cell_type": "code",
   "execution_count": 59,
   "id": "da5298f8-3285-4d73-b5c4-5bed02c1871d",
   "metadata": {},
   "outputs": [
    {
     "name": "stderr",
     "output_type": "stream",
     "text": [
      "2023-02-27 22:52:40,859 - INFO - User input: The Water Dancer (Oprah's Book Club): A Novel\n",
      "2023-02-27 22:52:40,860 - INFO - Matched book [The Water Dancer (Oprah's Book Club): A Novel] to category [United States]\n",
      "2023-02-27 22:52:40,861 - INFO - Found first book [The Water Dancer (Oprah's Book Club): A Novel] for category [United States]; Setting count to 1 \n",
      "2023-02-27 22:52:40,862 - INFO - Matched book [The Water Dancer (Oprah's Book Club): A Novel] to category [Black & African American]\n",
      "2023-02-27 22:52:40,863 - INFO - Found first book [The Water Dancer (Oprah's Book Club): A Novel] for category [Black & African American]; Setting count to 1 \n",
      "2023-02-27 22:52:40,865 - INFO - Matched book [The Water Dancer (Oprah's Book Club): A Novel] to category [Literature & Fiction]\n",
      "2023-02-27 22:52:40,866 - INFO - Found first book [The Water Dancer (Oprah's Book Club): A Novel] for category [Literature & Fiction]; Setting count to 1 \n",
      "2023-02-27 22:52:40,867 - INFO - Matched book [The Water Dancer (Oprah's Book Club): A Novel] to category [Historical]\n",
      "2023-02-27 22:52:40,868 - INFO - Found first book [The Water Dancer (Oprah's Book Club): A Novel] for category [Historical]; Setting count to 1 \n",
      "2023-02-27 22:52:40,869 - INFO - User input: The Pillars of the Earth: A Novel (Kingsbridge)\n",
      "2023-02-27 22:52:40,870 - INFO - Matched book [The Pillars of the Earth: A Novel (Kingsbridge)] to category [Genre Fiction]\n",
      "2023-02-27 22:52:40,871 - INFO - Found first book [The Pillars of the Earth: A Novel (Kingsbridge)] for category [Genre Fiction]; Setting count to 1 \n",
      "2023-02-27 22:52:40,873 - INFO - Matched book [The Pillars of the Earth: A Novel (Kingsbridge)] to category [Family Saga]\n",
      "2023-02-27 22:52:40,874 - INFO - Found first book [The Pillars of the Earth: A Novel (Kingsbridge)] for category [Family Saga]; Setting count to 1 \n",
      "2023-02-27 22:52:40,875 - INFO - Matched book [The Pillars of the Earth: A Novel (Kingsbridge)] to category [Literature & Fiction]\n",
      "2023-02-27 22:52:40,876 - INFO - Found book [The Pillars of the Earth: A Novel (Kingsbridge)] for category [Literature & Fiction]; increasing count from  [1] to [2]\n",
      "2023-02-27 22:52:40,877 - INFO - User input: The Wives\n",
      "2023-02-27 22:52:40,878 - INFO - Matched book [The Wives] to category [Mystery, Thriller & Suspense]\n",
      "2023-02-27 22:52:40,879 - INFO - Found first book [The Wives] for category [Mystery, Thriller & Suspense]; Setting count to 1 \n",
      "2023-02-27 22:52:40,880 - INFO - Matched book [The Wives] to category [Thrillers & Suspense]\n",
      "2023-02-27 22:52:40,882 - INFO - Found first book [The Wives] for category [Thrillers & Suspense]; Setting count to 1 \n",
      "2023-02-27 22:52:40,883 - INFO - Matched book [The Wives] to category [Psychological Thrillers]\n",
      "2023-02-27 22:52:40,884 - INFO - Found first book [The Wives] for category [Psychological Thrillers]; Setting count to 1 \n",
      "2023-02-27 22:52:40,885 - INFO - User input: The Wild Unknown Tarot Deck and Guidebook (Official Keepsake Box Set)\n",
      "2023-02-27 22:52:40,886 - INFO - Matched book [The Wild Unknown Tarot Deck and Guidebook (Official Keepsake Box Set)] to category [Religion & Spirituality]\n",
      "2023-02-27 22:52:40,888 - INFO - Found first book [The Wild Unknown Tarot Deck and Guidebook (Official Keepsake Box Set)] for category [Religion & Spirituality]; Setting count to 1 \n",
      "2023-02-27 22:52:40,889 - INFO - Matched book [The Wild Unknown Tarot Deck and Guidebook (Official Keepsake Box Set)] to category [New Age & Spirituality]\n",
      "2023-02-27 22:52:40,890 - INFO - Found first book [The Wild Unknown Tarot Deck and Guidebook (Official Keepsake Box Set)] for category [New Age & Spirituality]; Setting count to 1 \n",
      "2023-02-27 22:52:40,891 - INFO - User input: Rise of Magicks (Chronicles of The One, 3)\n",
      "2023-02-27 22:52:40,893 - INFO - Matched book [Rise of Magicks (Chronicles of The One, 3)] to category [Mystery, Thriller & Suspense]\n",
      "2023-02-27 22:52:40,894 - INFO - Found book [Rise of Magicks (Chronicles of The One, 3)] for category [Mystery, Thriller & Suspense]; increasing count from  [1] to [2]\n",
      "2023-02-27 22:52:40,895 - INFO - Matched book [Rise of Magicks (Chronicles of The One, 3)] to category [Thrillers & Suspense]\n",
      "2023-02-27 22:52:40,897 - INFO - Found book [Rise of Magicks (Chronicles of The One, 3)] for category [Thrillers & Suspense]; increasing count from  [1] to [2]\n",
      "2023-02-27 22:52:40,898 - INFO - User input: The Moonlight Child\n",
      "2023-02-27 22:52:40,899 - INFO - Matched book [The Moonlight Child] to category [Genre Fiction]\n",
      "2023-02-27 22:52:40,900 - INFO - Found book [The Moonlight Child] for category [Genre Fiction]; increasing count from  [1] to [2]\n",
      "2023-02-27 22:52:40,901 - INFO - Matched book [The Moonlight Child] to category [Thrillers & Suspense]\n",
      "2023-02-27 22:52:40,903 - INFO - Found book [The Moonlight Child] for category [Thrillers & Suspense]; increasing count from  [2] to [3]\n",
      "2023-02-27 22:52:40,904 - INFO - Matched book [The Moonlight Child] to category [Mystery, Thriller & Suspense]\n",
      "2023-02-27 22:52:40,905 - INFO - Found book [The Moonlight Child] for category [Mystery, Thriller & Suspense]; increasing count from  [2] to [3]\n",
      "2023-02-27 22:52:40,906 - INFO - Matched book [The Moonlight Child] to category [Literature & Fiction]\n",
      "2023-02-27 22:52:40,907 - INFO - Found book [The Moonlight Child] for category [Literature & Fiction]; increasing count from  [2] to [3]\n",
      "2023-02-27 22:52:40,908 - INFO - Matched book [The Moonlight Child] to category [Family Life]\n",
      "2023-02-27 22:52:40,909 - INFO - Found first book [The Moonlight Child] for category [Family Life]; Setting count to 1 \n",
      "2023-02-27 22:52:40,910 - INFO - User input: House in the Cerulean Sea\n",
      "2023-02-27 22:52:40,911 - INFO - Matched book [House in the Cerulean Sea] to category [Genre Fiction]\n",
      "2023-02-27 22:52:40,912 - INFO - Found book [House in the Cerulean Sea] for category [Genre Fiction]; increasing count from  [2] to [3]\n",
      "2023-02-27 22:52:40,913 - INFO - Matched book [House in the Cerulean Sea] to category [Literature & Fiction]\n",
      "2023-02-27 22:52:40,914 - INFO - Found book [House in the Cerulean Sea] for category [Literature & Fiction]; increasing count from  [3] to [4]\n",
      "2023-02-27 22:52:40,915 - INFO - Matched book [House in the Cerulean Sea] to category [LGBTQ+ Books]\n",
      "2023-02-27 22:52:40,917 - INFO - Found first book [House in the Cerulean Sea] for category [LGBTQ+ Books]; Setting count to 1 \n",
      "2023-02-27 22:52:40,917 - INFO - Matched book [House in the Cerulean Sea] to category [Classics]\n",
      "2023-02-27 22:52:40,918 - INFO - Found first book [House in the Cerulean Sea] for category [Classics]; Setting count to 1 \n",
      "2023-02-27 22:52:40,920 - INFO - User input: The Perfect Marriage: a completely gripping psychological suspense\n",
      "2023-02-27 22:52:40,920 - INFO - Matched book [The Perfect Marriage: a completely gripping psychological suspense] to category [Mystery, Thriller & Suspense]\n",
      "2023-02-27 22:52:40,922 - INFO - Found book [The Perfect Marriage: a completely gripping psychological suspense] for category [Mystery, Thriller & Suspense]; increasing count from  [3] to [4]\n",
      "2023-02-27 22:52:40,923 - INFO - Matched book [The Perfect Marriage: a completely gripping psychological suspense] to category [Thrillers & Suspense]\n",
      "2023-02-27 22:52:40,924 - INFO - Found book [The Perfect Marriage: a completely gripping psychological suspense] for category [Thrillers & Suspense]; increasing count from  [3] to [4]\n",
      "2023-02-27 22:52:40,925 - INFO - User input: The Watcher Girl: A Thriller\n",
      "2023-02-27 22:52:40,926 - INFO - Matched book [The Watcher Girl: A Thriller] to category [Mystery, Thriller & Suspense]\n",
      "2023-02-27 22:52:40,927 - INFO - Found book [The Watcher Girl: A Thriller] for category [Mystery, Thriller & Suspense]; increasing count from  [4] to [5]\n",
      "2023-02-27 22:52:40,927 - INFO - Matched book [The Watcher Girl: A Thriller] to category [Thrillers & Suspense]\n",
      "2023-02-27 22:52:40,929 - INFO - Found book [The Watcher Girl: A Thriller] for category [Thrillers & Suspense]; increasing count from  [4] to [5]\n",
      "2023-02-27 22:52:40,930 - INFO - Matched book [The Watcher Girl: A Thriller] to category [Psychological Thrillers]\n",
      "2023-02-27 22:52:40,931 - INFO - Found book [The Watcher Girl: A Thriller] for category [Psychological Thrillers]; increasing count from  [1] to [2]\n",
      "2023-02-27 22:52:40,932 - INFO - User input: The Total Money Makeover: Classic Edition: A Proven Plan for Financial Fitness\n",
      "2023-02-27 22:52:40,933 - INFO - Matched book [The Total Money Makeover: Classic Edition: A Proven Plan for Financial Fitness] to category [Budgeting & Money Management]\n",
      "2023-02-27 22:52:40,934 - INFO - Found first book [The Total Money Makeover: Classic Edition: A Proven Plan for Financial Fitness] for category [Budgeting & Money Management]; Setting count to 1 \n",
      "2023-02-27 22:52:40,936 - INFO - Matched book [The Total Money Makeover: Classic Edition: A Proven Plan for Financial Fitness] to category [Christian Books & Bibles]\n",
      "2023-02-27 22:52:40,936 - INFO - Found first book [The Total Money Makeover: Classic Edition: A Proven Plan for Financial Fitness] for category [Christian Books & Bibles]; Setting count to 1 \n",
      "2023-02-27 22:52:40,937 - INFO - Matched book [The Total Money Makeover: Classic Edition: A Proven Plan for Financial Fitness] to category [Christian Living]\n",
      "2023-02-27 22:52:40,939 - INFO - Found first book [The Total Money Makeover: Classic Edition: A Proven Plan for Financial Fitness] for category [Christian Living]; Setting count to 1 \n",
      "2023-02-27 22:52:40,940 - INFO - Matched book [The Total Money Makeover: Classic Edition: A Proven Plan for Financial Fitness] to category [Business & Money]\n",
      "2023-02-27 22:52:40,941 - INFO - Found first book [The Total Money Makeover: Classic Edition: A Proven Plan for Financial Fitness] for category [Business & Money]; Setting count to 1 \n",
      "2023-02-27 22:52:40,942 - INFO - Matched book [The Total Money Makeover: Classic Edition: A Proven Plan for Financial Fitness] to category [Personal Finance]\n",
      "2023-02-27 22:52:40,943 - INFO - Found first book [The Total Money Makeover: Classic Edition: A Proven Plan for Financial Fitness] for category [Personal Finance]; Setting count to 1 \n",
      "2023-02-27 22:52:40,944 - INFO - Category [Genre Fiction] has more entries than [Personal Finance]\n",
      "2023-02-27 22:52:40,945 - INFO - Category [Genre Fiction] has more entries than [Business & Money]\n",
      "2023-02-27 22:52:40,946 - INFO - Category [Genre Fiction] has more entries than [Christian Living]\n",
      "2023-02-27 22:52:40,947 - INFO - Category [Genre Fiction] has more entries than [Christian Books & Bibles]\n",
      "2023-02-27 22:52:40,948 - INFO - Category [Genre Fiction] has more entries than [Budgeting & Money Management]\n",
      "2023-02-27 22:52:40,949 - INFO - Category [Psychological Thrillers] has more entries than [Classics]\n",
      "2023-02-27 22:52:40,950 - INFO - Category [Psychological Thrillers] has more entries than [LGBTQ+ Books]\n",
      "2023-02-27 22:52:40,952 - INFO - Category [Psychological Thrillers] has more entries than [Family Life]\n",
      "2023-02-27 22:52:40,953 - INFO - Category [Psychological Thrillers] has more entries than [New Age & Spirituality]\n",
      "2023-02-27 22:52:40,954 - INFO - Category [Psychological Thrillers] has more entries than [Religion & Spirituality]\n",
      "2023-02-27 22:52:40,955 - INFO - Category [Psychological Thrillers] has more entries than [Family Saga]\n",
      "2023-02-27 22:52:40,956 - INFO - Category [Psychological Thrillers] has more entries than [Historical]\n",
      "2023-02-27 22:52:40,957 - INFO - Category [Psychological Thrillers] has more entries than [Black & African American]\n",
      "2023-02-27 22:52:40,958 - INFO - Category [Psychological Thrillers] has more entries than [United States]\n",
      "2023-02-27 22:52:40,959 - INFO - Category [Genre Fiction] has more entries than [Psychological Thrillers]\n",
      "2023-02-27 22:52:40,960 - INFO - Category [Thrillers & Suspense] has more entries than [Literature & Fiction]\n",
      "2023-02-27 22:52:40,961 - INFO - Category [Thrillers & Suspense] has more entries than [Genre Fiction]\n",
      "2023-02-27 22:52:40,963 - INFO - The most common category is [Thrillers & Suspense] with a count of [5]\n",
      "2023-02-27 22:52:40,963 - INFO - The most common category is [Mystery, Thriller & Suspense] with a count of [5]\n"
     ]
    }
   ],
   "source": [
    "user_inputs = []\n",
    "\n",
    "## USER INPUT OPTION 1 - 10 random titles\n",
    "\n",
    "book_sample = df_books.sample(n=10)\n",
    "\n",
    "for index, book in book_sample.iterrows():\n",
    "    input_deftemplate.assert_fact(title=book['title'])\n",
    "    user_inputs.append(book['title'])\n",
    "    \n",
    "#? USER INPUT OPTION 2 - 10 manually inputted titles\n",
    "\n",
    "# user_inputs = ['1','2','3','4','5','6','7','8','9','10']\n",
    "# for book_title in user_inputs:\n",
    "#     input_deftemplate.assert_fact(title=book_title)\n",
    "    \n",
    "\n",
    "env.eval(\"(run)\")\n",
    "    "
   ]
  },
  {
   "cell_type": "markdown",
   "id": "2a487f42-b58b-44b2-b2f3-85b828c0b4ba",
   "metadata": {},
   "source": [
    "After the inputs and rules are evaluated, we can loop over the remaining 'category-count' facts which are the most frequently occuring categories from the inputs provided."
   ]
  },
  {
   "cell_type": "code",
   "execution_count": 40,
   "id": "f0552409-61cc-4cb1-9df2-b97ecefd0b16",
   "metadata": {},
   "outputs": [
    {
     "name": "stdout",
     "output_type": "stream",
     "text": [
      "Mystery, Thriller & Suspense\n",
      "Thrillers & Suspense\n"
     ]
    }
   ],
   "source": [
    "common_categories = []\n",
    "\n",
    "for fact in env.facts():\n",
    "    if fact.template.name == 'category-count':\n",
    "        print(fact['category'])\n",
    "        common_categories.append(fact['category'])"
   ]
  },
  {
   "cell_type": "markdown",
   "id": "76534e26-9bdf-4d60-86b0-e37392b03c81",
   "metadata": {},
   "source": [
    "Before providing a new input to the system, the system must be reset to clear 'input-matches' and 'category-counts' which would otherwise affect the new input. "
   ]
  },
  {
   "cell_type": "code",
   "execution_count": 58,
   "id": "9c0831bc-f105-4a46-9c02-a5706b65e9a2",
   "metadata": {},
   "outputs": [
    {
     "name": "stderr",
     "output_type": "stream",
     "text": [
      "2023-02-27 22:52:40,991 - INFO - Reset Complete\n"
     ]
    }
   ],
   "source": [
    "# Reset knowledge base to initial state i.e. only book facts\n",
    "\n",
    "env.eval(\"\"\"\n",
    "(assert (reset-all))\n",
    "\"\"\")\n",
    "\n",
    "env.eval(\"(run)\")"
   ]
  },
  {
   "cell_type": "markdown",
   "id": "2ec4bbea-8542-4d8a-9934-ad4f5f85b699",
   "metadata": {},
   "source": [
    "## Getting Recommendations\n",
    "\n",
    "The output of the expert system is a list of categories from which recommendations must be made."
   ]
  },
  {
   "cell_type": "code",
   "execution_count": 42,
   "id": "9eb305ad-24e0-40b3-bf70-c032ae85c9b9",
   "metadata": {},
   "outputs": [
    {
     "data": {
      "text/plain": [
       "['Mystery, Thriller & Suspense', 'Thrillers & Suspense']"
      ]
     },
     "execution_count": 42,
     "metadata": {},
     "output_type": "execute_result"
    }
   ],
   "source": [
    "common_categories"
   ]
  },
  {
   "cell_type": "markdown",
   "id": "3a0bcac8-a397-4908-a042-b2da2cfa01eb",
   "metadata": {},
   "source": [
    "Given that multiple categories may be recommended, we can employ a simple 'round-robin' system to increment the counts for each category until a total count of 10 is reached. This will determine the split for the top 10 recommendations."
   ]
  },
  {
   "cell_type": "code",
   "execution_count": 43,
   "id": "dbbda59b-9a1c-49a8-b239-91660102e7ef",
   "metadata": {},
   "outputs": [
    {
     "data": {
      "text/plain": [
       "{'Mystery, Thriller & Suspense': 5, 'Thrillers & Suspense': 5}"
      ]
     },
     "execution_count": 43,
     "metadata": {},
     "output_type": "execute_result"
    }
   ],
   "source": [
    "# split the recommendations using a round-robin strategy i.e. add a count for each until the maximum is reached\n",
    "\n",
    "max_recommendations = 10\n",
    "categ_count = dict.fromkeys(common_categories,0)\n",
    "\n",
    "counter = 0\n",
    "while counter < max_recommendations:\n",
    "    for key,value in categ_count.items():\n",
    "        if counter == max_recommendations: break\n",
    "        categ_count[key] += 1\n",
    "        counter += 1\n",
    "        \n",
    "categ_count\n",
    "\n"
   ]
  },
  {
   "cell_type": "markdown",
   "id": "b6353b08-34b6-4c01-a695-9b1519bff5cd",
   "metadata": {},
   "source": [
    "The last step is to get the recommendations from the dataset. To return the recommendations, we define a function which performs the following logic:\n",
    "\n",
    "  1. Remove the user inputs from the available books\n",
    "  2. For each category, sort the books dataset by the rating and reviews in descending order and get the top 20 books.\n",
    "  3. If the book is not in the recommendations list, add it to the list. Otherwise, skip it.\n",
    "  4. Repeat the above until enough books for that category are in the recommendations list.\n",
    "  5. Print out the full list of recommendations."
   ]
  },
  {
   "cell_type": "code",
   "execution_count": 76,
   "id": "632b9833-9a97-4adf-a140-573c3b0e61c0",
   "metadata": {},
   "outputs": [],
   "source": [
    "def get_recommendations(user_inputs, category_count):\n",
    "    recommendations = {}\n",
    "    \n",
    "    df_books2 = df_books[~df_books.title.isin(user_inputs)] # exclude user inputs from dataframe\n",
    "    \n",
    "    for categ, max_count in category_count.items():\n",
    "        # get top 10 for each category\n",
    "        df_books3 = df_books2[df_books2['categories'].str.contains(categ, regex=False)].sort_values(by=['rating','reviews_count'],ascending=[False,False])[:20]\n",
    "        current_count = 0\n",
    "        for index, book in df_books3.iterrows():\n",
    "            if book['title'] in recommendations:\n",
    "                pass\n",
    "            else:\n",
    "                recommendations[book['title']] = book['author']\n",
    "                current_count += 1\n",
    "            if current_count >= max_count: break\n",
    "            \n",
    "    print(\"Your recommended readings are:\")\n",
    "    for idx,(title,author) in enumerate(recommendations.items()):\n",
    "        print(f\"{idx+1}. {title} by {author}\")\n"
   ]
  },
  {
   "cell_type": "code",
   "execution_count": 75,
   "id": "a8db02f2-7598-479b-8af1-49b1377def13",
   "metadata": {},
   "outputs": [
    {
     "name": "stdout",
     "output_type": "stream",
     "text": [
      "1. Battle Ground (Dresden Files) by Jim Butcher\n",
      "2. Shadows in Death: An Eve Dallas Novel: In Death, Book 51 by Susan Ericksen (Narrator), J. D. Robb (Author), Macmillan Audio (Publisher) & 0 more\n",
      "3. Faithless in Death: An Eve Dallas Novel (In Death, 52) by J. D. Robb\n",
      "4. Forgotten in Death: An Eve Dallas Novel by J. D. Robb\n",
      "5. Forgotten in Death: An Eve Dallas Novel (In Death, 53) by J. D. Robb\n",
      "6. Project Hail Mary: A Novel by Andy Weir\n",
      "7. The Institute: A Novel by Stephen King\n",
      "8. Ocean Prey by John Sandford (Author), Richard Ferrone (Narrator), Penguin Audio (Publisher) & 0 more\n",
      "9. Doctor Sleep by Stephen King\n",
      "10. It: A Novel by Stephen King\n"
     ]
    }
   ],
   "source": [
    "get_recommendations(user_inputs, categ_count)"
   ]
  },
  {
   "cell_type": "markdown",
   "id": "8db6abe0-dfaf-41c5-a792-95e21db4d107",
   "metadata": {},
   "source": [
    "## Conclusions and Future Improvement\n",
    "\n",
    "By including an expert system encoded in the CLIPS, a simple albeit performant recommendation system was successfully developed based on the provided dataset. Although the desired output was attained, a number of limitations are apparent:\n",
    "\n",
    "- The dataset is unbalanced, favoring certain genres e.g. Literature & Fiction\n",
    "- Similar entries which are not exact duplicates were not completely removed \n",
    "\n",
    "Despite the shortcomings of this implementation, it was an interesting introduction to application of expert systems and their role in Artificial Intelligence."
   ]
  }
 ],
 "metadata": {
  "kernelspec": {
   "display_name": "Python 3 (ipykernel)",
   "language": "python",
   "name": "python3"
  },
  "language_info": {
   "codemirror_mode": {
    "name": "ipython",
    "version": 3
   },
   "file_extension": ".py",
   "mimetype": "text/x-python",
   "name": "python",
   "nbconvert_exporter": "python",
   "pygments_lexer": "ipython3",
   "version": "3.10.6"
  }
 },
 "nbformat": 4,
 "nbformat_minor": 5
}
